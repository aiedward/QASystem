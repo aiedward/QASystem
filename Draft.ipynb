{
 "cells": [
  {
   "cell_type": "code",
   "execution_count": 32,
   "metadata": {},
   "outputs": [],
   "source": [
    "import tensorflow as tf\n",
    "import pandas as pd\n",
    "import numpy as np\n",
    "import json\n",
    "import nltk\n",
    "import gensim\n",
    "import itertools\n",
    "import tflearn as tl"
   ]
  },
  {
   "cell_type": "code",
   "execution_count": 33,
   "metadata": {},
   "outputs": [],
   "source": [
    "lmap=lambda func,it:list(map(func,it))"
   ]
  },
  {
   "cell_type": "code",
   "execution_count": 34,
   "metadata": {},
   "outputs": [],
   "source": [
    "with open('documents.json','r+') as f:\n",
    "    documents=json.loads(f.read())"
   ]
  },
  {
   "cell_type": "code",
   "execution_count": 35,
   "metadata": {},
   "outputs": [],
   "source": [
    "with open('training.json','r+') as f:\n",
    "    query=json.loads(f.read())"
   ]
  },
  {
   "cell_type": "code",
   "execution_count": 36,
   "metadata": {},
   "outputs": [],
   "source": [
    "with open('testing.json','r+') as f:\n",
    "    test=json.loads(f.read())"
   ]
  },
  {
   "cell_type": "code",
   "execution_count": 38,
   "metadata": {},
   "outputs": [],
   "source": [
    "tokenizer=nltk.tokenize.SpaceTokenizer()\n",
    "sentence_tokenizer=nltk.tokenize.PunktSentenceTokenizer()"
   ]
  },
  {
   "cell_type": "code",
   "execution_count": 39,
   "metadata": {},
   "outputs": [],
   "source": [
    "paragraphs={}\n",
    "for d in documents:\n",
    "    doc_id=d['docid']\n",
    "    for pi,p in enumerate(d['text']):\n",
    "        text=p.lower().replace('\"','').replace('`','').replace('``','').replace(\"''\",'').replace('``','')\n",
    "        text=list(filter(lambda x:len(x.strip())>0,tokenizer.tokenize(text)))\n",
    "        paragraphs[(doc_id,pi)]=text"
   ]
  },
  {
   "cell_type": "code",
   "execution_count": 46,
   "metadata": {},
   "outputs": [],
   "source": [
    "processed_query=[]\n",
    "for q in query:\n",
    "    docid=q['docid']\n",
    "    paraid=q['answer_paragraph']\n",
    "    question_text=q['question'].lower().replace('\"','').replace('`','').replace('``','').replace(\"''\",'').replace('``','')\n",
    "    question_token=list(filter(lambda x:len(x.strip())>0,tokenizer.tokenize(question_text)))\n",
    "    answer_text=q['text'].lower().replace('\"','').replace('`','').replace('``','').replace(\"''\",'').replace('``','')\n",
    "    answer_token=list(filter(lambda x:len(x.strip())>0,tokenizer.tokenize(answer_text)))\n",
    "    processed_query.append({'dp_id':(docid,paraid),'question':question_token,'answer':answer_token})"
   ]
  },
  {
   "cell_type": "code",
   "execution_count": 47,
   "metadata": {},
   "outputs": [],
   "source": [
    "# documents=lmap(lambda x:' '.join(x['text']).lower().replace('\"','').replace('`','').replace('``','').replace(\"''\",'').replace('``',''),documents)\n",
    "# query=lmap(lambda x:{'dpid':(x['docid'],x['answer_paragraph']),\n",
    "#                      'question':x['question'].lower().replace('``','').replace(\"''\",'').replace('``',''),\n",
    "#                      'text':x['text'].lower().replace('``','').replace(\"''\",'').replace('``','')},query)"
   ]
  },
  {
   "cell_type": "code",
   "execution_count": 48,
   "metadata": {},
   "outputs": [],
   "source": [
    "# document_sentences=lmap(lambda x:sentence_tokenizer.tokenize(x),documents)"
   ]
  },
  {
   "cell_type": "code",
   "execution_count": 49,
   "metadata": {},
   "outputs": [],
   "source": [
    "# document_sentences=list(itertools.chain.from_iterable(document_sentences))"
   ]
  },
  {
   "cell_type": "code",
   "execution_count": 50,
   "metadata": {},
   "outputs": [],
   "source": [
    "# doc_tokens=lmap(lambda x:list(filter(lambda x:len(x)>0,tokenizer.tokenize(x))),documents)\n",
    "# query_tokens=lmap(lambda x:list(filter(lambda x:len(x)>0,tokenizer.tokenize(x['question']))),query)\n",
    "# answer_tokens=lmap(lambda x:list(filter(lambda x:len(x)>0,tokenizer.tokenize(x['text']))),query)"
   ]
  },
  {
   "cell_type": "code",
   "execution_count": 51,
   "metadata": {},
   "outputs": [],
   "source": [
    "doc_tokens=list(paragraphs.values())"
   ]
  },
  {
   "cell_type": "code",
   "execution_count": 52,
   "metadata": {},
   "outputs": [],
   "source": [
    "query_tokens=lmap(lambda x: x['question'], processed_query)"
   ]
  },
  {
   "cell_type": "code",
   "execution_count": 53,
   "metadata": {},
   "outputs": [],
   "source": [
    "answer_tokens=lmap(lambda x: x['answer'], processed_query)"
   ]
  },
  {
   "cell_type": "code",
   "execution_count": 54,
   "metadata": {},
   "outputs": [],
   "source": [
    "all_tokens=doc_tokens+query_tokens+answer_tokens"
   ]
  },
  {
   "cell_type": "code",
   "execution_count": 55,
   "metadata": {},
   "outputs": [],
   "source": [
    "w2c=gensim.models.Word2Vec(all_tokens,min_count=0,size=100)"
   ]
  },
  {
   "cell_type": "code",
   "execution_count": 56,
   "metadata": {
    "scrolled": true
   },
   "outputs": [
    {
     "name": "stdout",
     "output_type": "stream",
     "text": [
      "CPU times: user 36.2 s, sys: 156 ms, total: 36.3 s\n",
      "Wall time: 13.1 s\n"
     ]
    },
    {
     "data": {
      "text/plain": [
       "(10703726, 13582995)"
      ]
     },
     "execution_count": 56,
     "metadata": {},
     "output_type": "execute_result"
    }
   ],
   "source": [
    "%%time\n",
    "w2c.train(all_tokens,epochs=5,total_examples=w2c.corpus_count)"
   ]
  },
  {
   "cell_type": "code",
   "execution_count": 57,
   "metadata": {},
   "outputs": [],
   "source": [
    "# doc_embeddings={}\n",
    "# for i,d in enumerate(documents):\n",
    "#     tokens=list(filter(lambda x:len(x)>0,tokenizer.tokenize(d.lower())))\n",
    "# #     sentences=sentence_tokenizer.tokenize(d)\n",
    "# #     tokens=lmap(lambda x:tokenizer.tokenize(x),sentences)\n",
    "# #     tokens=list(itertools.chain.from_iterable(tokens))\n",
    "#     doc_embeddings[i]=(tokens,np.array(lmap(lambda x: w2c.wv[x.lower()] ,tokens)))"
   ]
  },
  {
   "cell_type": "code",
   "execution_count": 58,
   "metadata": {},
   "outputs": [],
   "source": [
    "for k,v in paragraphs.items():\n",
    "    paragraphs[k]=(v,np.array(lmap(lambda x: w2c.wv[x.lower()] ,v)))"
   ]
  },
  {
   "cell_type": "code",
   "execution_count": 59,
   "metadata": {},
   "outputs": [],
   "source": [
    "def lookup_answer_index(answer_tokens,doc_tokens):\n",
    "    doc_length=len(doc_tokens)\n",
    "    answer_length=len(answer_tokens)\n",
    "    for i in range(doc_length):\n",
    "        if doc_length-i<answer_length:\n",
    "            return (0,0)\n",
    "        found=True\n",
    "        for j in range(answer_length):\n",
    "            found=answer_tokens[j] in doc_tokens[i+j]\n",
    "            if not found: break\n",
    "        if found:\n",
    "            return (i,i+answer_length-1)"
   ]
  },
  {
   "cell_type": "code",
   "execution_count": 60,
   "metadata": {},
   "outputs": [],
   "source": [
    "def crop_pad_question(max_leng,embedding):\n",
    "    if embedding.shape[0]>max_leng:\n",
    "        return embedding[:max_leng]\n",
    "    dim=embedding.shape[1]\n",
    "    pad_leng=max_leng - embedding.shape[0]\n",
    "    padded_embedding=np.concatenate((embedding,np.zeros((pad_leng,dim))))\n",
    "    assert padded_embedding.shape[0]==max_leng\n",
    "    return padded_embedding"
   ]
  },
  {
   "cell_type": "code",
   "execution_count": 61,
   "metadata": {},
   "outputs": [],
   "source": [
    "max_question_length=max(lmap(lambda x:len(x['question']),processed_query))\n",
    "for q in processed_query:\n",
    "#     {'dp_id':(doc_id,paraid),'question':question_token,'answer':answer_token}\n",
    "    doc_t=paragraphs[q['dp_id']][0]\n",
    "    answer_t=q['answer']\n",
    "    query_t=q['question']\n",
    "    start,end=lookup_answer_index(answer_t,doc_t)\n",
    "    start_vec=np.zeros((len(doc_t),1),dtype=np.float32)\n",
    "    start_vec[start]=1.0\n",
    "    end_vec=np.zeros((len(doc_t),1),dtype=np.float32)\n",
    "    end_vec[end]=1.0\n",
    "    q['answer_span']=(start_vec,end_vec)\n",
    "    query_embedding=np.array(lmap(lambda x:w2c.wv[x],query_t))\n",
    "    q['query_embedding']=crop_pad_question(max_question_length,query_embedding)"
   ]
  },
  {
   "cell_type": "code",
   "execution_count": 62,
   "metadata": {},
   "outputs": [],
   "source": [
    "# query_embeddings={}\n",
    "# for i,q in enumerate(query):\n",
    "#     query_tokens=list(filter(lambda x:len(x)>0,tokenizer.tokenize(q['question'].lower()))) \n",
    "#     answer_tokens=list(filter(lambda x:len(x)>0,tokenizer.tokenize(q['text'].lower()))) \n",
    "#     doc_tokens=doc_embeddings[q['docid']][0]\n",
    "#     start,end=lookup_answer_index(answer_tokens,doc_tokens)\n",
    "#     query_matrix=np.array(lmap(lambda x:w2c.wv[x],query_tokens))\n",
    "# #     answer_matrix=np.array(lmap(lambda x:w2c.wv[x],answer_tokens))\n",
    "#     start_vec=np.zeros(len(doc_tokens),dtype=np.float32)\n",
    "#     start_vec[start]=1.0\n",
    "#     end_vec=np.zeros(len(doc_tokens),dtype=np.float32)\n",
    "#     end_vec[end]=1.0\n",
    "#     query_embeddings[i]=(q['docid'],i,query_matrix,start_vec,end_vec,answer_tokens)"
   ]
  },
  {
   "cell_type": "code",
   "execution_count": 93,
   "metadata": {},
   "outputs": [],
   "source": [
    "class RNNQANet():\n",
    "    def __init__(self,rnn_units_number=[100,50],rnn_attention_length=5,learning_rate=0.001):\n",
    "        tf.reset_default_graph()\n",
    "        self.question=tf.placeholder(shape=[None,40,100],dtype=tf.float32,name='question')\n",
    "        self.context=tf.placeholder(shape=[1,None,100],dtype=tf.float32,name='context')\n",
    "        self.y_start=tf.placeholder(shape=[None,None,1],dtype=tf.float32,name='y_start')\n",
    "        self.y_end=tf.placeholder(shape=[None,None,1],dtype=tf.float32,name='y_end')\n",
    "        self.dropout_keep_prob = tf.placeholder(dtype=tf.float32, shape=[], name='dropout_keep_prob')\n",
    "        self.question_input=self.question\n",
    "        self.context_input=self.context\n",
    "        with tf.variable_scope('rnn_context_encoder',initializer=tf.contrib.layers.xavier_initializer()):\n",
    "            fcell=self._add_layerd_RNN_attention_cell(units_number=rnn_units_number,attention_length=rnn_attention_length,activation=tf.nn.relu)\n",
    "            bcell=self._add_layerd_RNN_attention_cell(units_number=rnn_units_number,attention_length=rnn_attention_length,activation=tf.nn.relu)\n",
    "            self.context_output,self.c_state=tf.nn.bidirectional_dynamic_rnn(inputs=self.context_input,cell_fw=fcell,cell_bw=bcell,dtype=tf.float32)\n",
    "#             self.context_output,self.c_state=tf.nn.dynamic_rnn(inputs=self.context_input,cell=cell,dtype=tf.float32)\n",
    "            self.context_output=tf.concat(self.context_output,2)\n",
    "            self.context_output=tf.unstack(self.context_output,axis=0)[0]\n",
    "            self.context_output=tl.layers.batch_normalization(self.context_output)\n",
    "        with tf.variable_scope('rnn_question_encoder',initializer=tf.contrib.layers.xavier_initializer()):\n",
    "#             cell=self._add_layerd_RNN_attention_cell(units_number=rnn_units_number,attention_length=rnn_attention_length,activation=tf.nn.relu)\n",
    "#             bcell=self._add_layerd_RNN_attention_cell(units_number=rnn_units_number,attention_length=rnn_attention_length,activation=tf.nn.relu)\n",
    "#             self.qoutput,self.q_state=tf.nn.bidirectional_dynamic_rnn(inputs=self.question_input,cell_fw=fcell,cell_bw=bcell,dtype=tf.float32)\n",
    "#             print(self.q_state[0])\n",
    "            _,self.q_state=self._encoder_block(inputs=self.question_input,units_number= rnn_units_number[-1]*2,attention_length=rnn_attention_length)\n",
    "            self.question_output=self.q_state[0]\n",
    "            \n",
    "            self.question_output=tl.layers.batch_normalization(self.question_output)\n",
    "        with tf.variable_scope('context_query_similarity',initializer=tf.contrib.layers.xavier_initializer()):\n",
    "            self.context_query_output=tf.map_fn(lambda x:tf.multiply(x,self.context_output),self.question_output)\n",
    "            self.context_query_output=tf.nn.softmax(self.context_query_output,axis=1)\n",
    "            self.cq_encoder1,_=self._encoder_block(inputs=self.context_query_output,units_number=10,attention_length=5)\n",
    "            self.cq_encoder2,_=self._encoder_block(inputs=self.cq_encoder1,units_number=10,attention_length=5)\n",
    "            self.cq_encoder3,_=self._encoder_block(inputs=self.cq_encoder2,units_number=10,attention_length=5)\n",
    "#             self.context_query_output=tf.nn.softmax(self.context_query_output,axis=0)\n",
    "        with tf.variable_scope('start_decoder',initializer=tf.contrib.layers.xavier_initializer()):\n",
    "            self.y_predict_start=tf.concat([self.cq_encoder1,self.cq_encoder2],axis=2)\n",
    "            self.y_predict_start=self._add_dense_layer(inputs=self.y_predict_start,output_shape=1,drop_keep_prob=self.dropout_keep_prob,act=None)\n",
    "            self.y_predict_start_softmax=tf.nn.softmax(self.y_predict_start,axis=1)\n",
    "            self.y_start_loss=tf.reduce_mean(tf.nn.softmax_cross_entropy_with_logits_v2(logits=self.y_predict_start,labels=self.y_start,dim=1))\n",
    "        with tf.variable_scope('end_decoder',initializer=tf.contrib.layers.xavier_initializer()):\n",
    "            self.y_predict_end=tf.concat([self.cq_encoder1,self.cq_encoder3],axis=2)\n",
    "            self.y_predict_end=self._add_dense_layer(inputs=self.y_predict_end,output_shape=1,drop_keep_prob=self.dropout_keep_prob,act=None)\n",
    "            self.y_predict_end_softmax=tf.nn.softmax(self.y_predict_end,axis=1)\n",
    "            self.y_end_loss=tf.reduce_mean(tf.nn.softmax_cross_entropy_with_logits_v2(logits=self.y_predict_end,labels=self.y_end,dim=1))\n",
    "        with tf.variable_scope('train'):\n",
    "            self.optimizier=tf.train.AdamOptimizer(learning_rate=learning_rate)\n",
    "            self.total_loss=self.y_start_loss+self.y_end_loss\n",
    "            self.train_op=self.optimizier.minimize(self.total_loss)\n",
    "        self.init_op=tf.global_variables_initializer()\n",
    "        self.session=tf.Session()\n",
    "        self.session.run(self.init_op)\n",
    "\n",
    "    def _add_dense_layer(self, inputs, output_shape, drop_keep_prob, act=tf.nn.tanh):\n",
    "        output = tf.contrib.layers.fully_connected(activation_fn=act, num_outputs=output_shape, inputs=inputs)\n",
    "        output = tf.nn.dropout(output, drop_keep_prob)\n",
    "        return output\n",
    "                \n",
    "    def _add_RNN_attention_cell(self,units_number,activation=tf.nn.tanh,attention_length=2,use_attention=False):\n",
    "        rnn=tf.contrib.rnn.GRUCell(activation=activation,num_units=units_number)\n",
    "        if use_attention:\n",
    "            rnn=tf.contrib.rnn.AttentionCellWrapper(rnn,attn_length=attention_length)\n",
    "        rnn = tf.contrib.rnn.DropoutWrapper(rnn,\n",
    "                                             input_keep_prob=self.dropout_keep_prob,\n",
    "                                             output_keep_prob=self.dropout_keep_prob,\n",
    "                                             state_keep_prob=self.dropout_keep_prob,\n",
    "                                             )\n",
    "        return rnn\n",
    "    \n",
    "    def _add_layerd_RNN_attention_cell(self,units_number,activation=tf.nn.tanh,attention_length=2,use_attention=False):\n",
    "        rnn=[self._add_GRU(units_number=n,attention_length=attention_length) for n in units_number ]\n",
    "        rnn=tf.contrib.rnn.MultiRNNCell(cells=rnn,state_is_tuple=True)\n",
    "#         if use_attention:\n",
    "#             rnn=tf.contrib.rnn.AttentionCellWrapper(rnn,attn_length=attention_length)\n",
    "        rnn= tf.contrib.rnn.DropoutWrapper(rnn,\n",
    "                                             input_keep_prob=self.dropout_keep_prob,\n",
    "                                             output_keep_prob=self.dropout_keep_prob,\n",
    "                                             state_keep_prob=self.dropout_keep_prob,\n",
    "                                             )\n",
    "        return rnn\n",
    "    \n",
    "    def _add_GRU(self,units_number,attention_length,activation=tf.nn.tanh,use_attention=False):\n",
    "        gru=tf.contrib.rnn.GRUCell(activation=activation,num_units=units_number)\n",
    "        if use_attention:\n",
    "            gru=tf.contrib.rnn.AttentionCellWrapper(gru,attn_length=attention_length)\n",
    "        return gru\n",
    "    \n",
    "    def _encoder_block(self,inputs,units_number,attention_length,activation=tf.nn.relu,use_attention=True,normalize=True):\n",
    "        gru=self._add_GRU(units_number=units_number,activation=activation,use_attention=use_attention,attention_length= attention_length)\n",
    "        output,state=tf.nn.dynamic_rnn(inputs=inputs,cell=gru,dtype=tf.float32)\n",
    "        if normalize:\n",
    "            output=tl.layers.batch_normalization(output)\n",
    "        return output,state\n",
    "    \n",
    "    def build_feed_dict(self,context,question,y_start,y_end,drop_keep_prob=0.8):\n",
    "        feed_dict={\n",
    "            self.question:question,\n",
    "            self.context:context,\n",
    "            self.y_start:y_start,\n",
    "            self.y_end:y_end,\n",
    "            self.dropout_keep_prob:drop_keep_prob\n",
    "        }\n",
    "        return feed_dict\n",
    "    \n",
    "    def train(self,context,question,y_start,y_end,drop_keep_prob=0.8):\n",
    "        feed_dict={\n",
    "            self.question:question,\n",
    "            self.context:context,\n",
    "            self.y_start:y_start,\n",
    "            self.y_end:y_end,\n",
    "            self.dropout_keep_prob:drop_keep_prob\n",
    "        }\n",
    "        _,loss,y_startloss,y_endloss=self.session.run([self.train_op,self.total_loss,self.y_start_loss,self.y_end_loss],feed_dict=feed_dict)\n",
    "        return loss,y_startloss,y_endloss\n",
    "#     def predict(context,question):\n",
    "#          feed_dict={\n",
    "#             self.question:question,\n",
    "#             self.context:context,\n",
    "#             self.y_start:y_start,\n",
    "#             self.y_end:y_end,\n",
    "#             self.dropout_keep_prob:dropout_keep_prob\n",
    "#         }"
   ]
  },
  {
   "cell_type": "code",
   "execution_count": 94,
   "metadata": {
    "scrolled": false
   },
   "outputs": [
    {
     "ename": "ValueError",
     "evalue": "Variable context_query_similarity/rnn/attention_cell_wrapper/kernel already exists, disallowed. Did you mean to set reuse=True or reuse=tf.AUTO_REUSE in VarScope? Originally defined at:\n\n  File \"/usr/local/lib/python3.5/dist-packages/tensorflow/contrib/rnn/python/ops/core_rnn_cell.py\", line 99, in __init__\n    initializer=kernel_initializer)\n  File \"/usr/local/lib/python3.5/dist-packages/tensorflow/contrib/rnn/python/ops/rnn_cell.py\", line 1203, in call\n    self._linear1 = _Linear([inputs, attns], input_size, True)\n  File \"<ipython-input-93-164b05951de7>\", line 89, in _encoder_block\n    output,state=tf.nn.dynamic_rnn(inputs=inputs,cell=gru,dtype=tf.float32)\n",
     "traceback": [
      "\u001b[0;31m---------------------------------------------------------------------------\u001b[0m",
      "\u001b[0;31mValueError\u001b[0m                                Traceback (most recent call last)",
      "\u001b[0;32m<ipython-input-94-3b1e84ba5cd6>\u001b[0m in \u001b[0;36m<module>\u001b[0;34m()\u001b[0m\n\u001b[0;32m----> 1\u001b[0;31m \u001b[0mqanet\u001b[0m\u001b[0;34m=\u001b[0m\u001b[0mRNNQANet\u001b[0m\u001b[0;34m(\u001b[0m\u001b[0;34m)\u001b[0m\u001b[0;34m\u001b[0m\u001b[0m\n\u001b[0m",
      "\u001b[0;32m<ipython-input-93-164b05951de7>\u001b[0m in \u001b[0;36m__init__\u001b[0;34m(self, rnn_units_number, rnn_attention_length, learning_rate)\u001b[0m\n\u001b[1;32m     30\u001b[0m             \u001b[0mself\u001b[0m\u001b[0;34m.\u001b[0m\u001b[0mcontext_query_output\u001b[0m\u001b[0;34m=\u001b[0m\u001b[0mtf\u001b[0m\u001b[0;34m.\u001b[0m\u001b[0mnn\u001b[0m\u001b[0;34m.\u001b[0m\u001b[0msoftmax\u001b[0m\u001b[0;34m(\u001b[0m\u001b[0mself\u001b[0m\u001b[0;34m.\u001b[0m\u001b[0mcontext_query_output\u001b[0m\u001b[0;34m,\u001b[0m\u001b[0maxis\u001b[0m\u001b[0;34m=\u001b[0m\u001b[0;36m1\u001b[0m\u001b[0;34m)\u001b[0m\u001b[0;34m\u001b[0m\u001b[0m\n\u001b[1;32m     31\u001b[0m             \u001b[0mself\u001b[0m\u001b[0;34m.\u001b[0m\u001b[0mcq_encoder1\u001b[0m\u001b[0;34m,\u001b[0m\u001b[0m_\u001b[0m\u001b[0;34m=\u001b[0m\u001b[0mself\u001b[0m\u001b[0;34m.\u001b[0m\u001b[0m_encoder_block\u001b[0m\u001b[0;34m(\u001b[0m\u001b[0minputs\u001b[0m\u001b[0;34m=\u001b[0m\u001b[0mself\u001b[0m\u001b[0;34m.\u001b[0m\u001b[0mcontext_query_output\u001b[0m\u001b[0;34m,\u001b[0m\u001b[0munits_number\u001b[0m\u001b[0;34m=\u001b[0m\u001b[0;36m10\u001b[0m\u001b[0;34m,\u001b[0m\u001b[0mattention_length\u001b[0m\u001b[0;34m=\u001b[0m\u001b[0;36m5\u001b[0m\u001b[0;34m)\u001b[0m\u001b[0;34m\u001b[0m\u001b[0m\n\u001b[0;32m---> 32\u001b[0;31m             \u001b[0mself\u001b[0m\u001b[0;34m.\u001b[0m\u001b[0mcq_encoder2\u001b[0m\u001b[0;34m,\u001b[0m\u001b[0m_\u001b[0m\u001b[0;34m=\u001b[0m\u001b[0mself\u001b[0m\u001b[0;34m.\u001b[0m\u001b[0m_encoder_block\u001b[0m\u001b[0;34m(\u001b[0m\u001b[0minputs\u001b[0m\u001b[0;34m=\u001b[0m\u001b[0mself\u001b[0m\u001b[0;34m.\u001b[0m\u001b[0mcq_encoder1\u001b[0m\u001b[0;34m,\u001b[0m\u001b[0munits_number\u001b[0m\u001b[0;34m=\u001b[0m\u001b[0;36m10\u001b[0m\u001b[0;34m,\u001b[0m\u001b[0mattention_length\u001b[0m\u001b[0;34m=\u001b[0m\u001b[0;36m5\u001b[0m\u001b[0;34m)\u001b[0m\u001b[0;34m\u001b[0m\u001b[0m\n\u001b[0m\u001b[1;32m     33\u001b[0m             \u001b[0mself\u001b[0m\u001b[0;34m.\u001b[0m\u001b[0mcq_encoder3\u001b[0m\u001b[0;34m,\u001b[0m\u001b[0m_\u001b[0m\u001b[0;34m=\u001b[0m\u001b[0mself\u001b[0m\u001b[0;34m.\u001b[0m\u001b[0m_encoder_block\u001b[0m\u001b[0;34m(\u001b[0m\u001b[0minputs\u001b[0m\u001b[0;34m=\u001b[0m\u001b[0mself\u001b[0m\u001b[0;34m.\u001b[0m\u001b[0mcq_encoder2\u001b[0m\u001b[0;34m,\u001b[0m\u001b[0munits_number\u001b[0m\u001b[0;34m=\u001b[0m\u001b[0;36m10\u001b[0m\u001b[0;34m,\u001b[0m\u001b[0mattention_length\u001b[0m\u001b[0;34m=\u001b[0m\u001b[0;36m5\u001b[0m\u001b[0;34m)\u001b[0m\u001b[0;34m\u001b[0m\u001b[0m\n\u001b[1;32m     34\u001b[0m \u001b[0;31m#             self.context_query_output=tf.nn.softmax(self.context_query_output,axis=0)\u001b[0m\u001b[0;34m\u001b[0m\u001b[0;34m\u001b[0m\u001b[0m\n",
      "\u001b[0;32m<ipython-input-93-164b05951de7>\u001b[0m in \u001b[0;36m_encoder_block\u001b[0;34m(self, inputs, units_number, attention_length, activation, use_attention, normalize)\u001b[0m\n\u001b[1;32m     87\u001b[0m     \u001b[0;32mdef\u001b[0m \u001b[0m_encoder_block\u001b[0m\u001b[0;34m(\u001b[0m\u001b[0mself\u001b[0m\u001b[0;34m,\u001b[0m\u001b[0minputs\u001b[0m\u001b[0;34m,\u001b[0m\u001b[0munits_number\u001b[0m\u001b[0;34m,\u001b[0m\u001b[0mattention_length\u001b[0m\u001b[0;34m,\u001b[0m\u001b[0mactivation\u001b[0m\u001b[0;34m=\u001b[0m\u001b[0mtf\u001b[0m\u001b[0;34m.\u001b[0m\u001b[0mnn\u001b[0m\u001b[0;34m.\u001b[0m\u001b[0mrelu\u001b[0m\u001b[0;34m,\u001b[0m\u001b[0muse_attention\u001b[0m\u001b[0;34m=\u001b[0m\u001b[0;32mTrue\u001b[0m\u001b[0;34m,\u001b[0m\u001b[0mnormalize\u001b[0m\u001b[0;34m=\u001b[0m\u001b[0;32mTrue\u001b[0m\u001b[0;34m)\u001b[0m\u001b[0;34m:\u001b[0m\u001b[0;34m\u001b[0m\u001b[0m\n\u001b[1;32m     88\u001b[0m         \u001b[0mgru\u001b[0m\u001b[0;34m=\u001b[0m\u001b[0mself\u001b[0m\u001b[0;34m.\u001b[0m\u001b[0m_add_GRU\u001b[0m\u001b[0;34m(\u001b[0m\u001b[0munits_number\u001b[0m\u001b[0;34m=\u001b[0m\u001b[0munits_number\u001b[0m\u001b[0;34m,\u001b[0m\u001b[0mactivation\u001b[0m\u001b[0;34m=\u001b[0m\u001b[0mactivation\u001b[0m\u001b[0;34m,\u001b[0m\u001b[0muse_attention\u001b[0m\u001b[0;34m=\u001b[0m\u001b[0muse_attention\u001b[0m\u001b[0;34m,\u001b[0m\u001b[0mattention_length\u001b[0m\u001b[0;34m=\u001b[0m \u001b[0mattention_length\u001b[0m\u001b[0;34m)\u001b[0m\u001b[0;34m\u001b[0m\u001b[0m\n\u001b[0;32m---> 89\u001b[0;31m         \u001b[0moutput\u001b[0m\u001b[0;34m,\u001b[0m\u001b[0mstate\u001b[0m\u001b[0;34m=\u001b[0m\u001b[0mtf\u001b[0m\u001b[0;34m.\u001b[0m\u001b[0mnn\u001b[0m\u001b[0;34m.\u001b[0m\u001b[0mdynamic_rnn\u001b[0m\u001b[0;34m(\u001b[0m\u001b[0minputs\u001b[0m\u001b[0;34m=\u001b[0m\u001b[0minputs\u001b[0m\u001b[0;34m,\u001b[0m\u001b[0mcell\u001b[0m\u001b[0;34m=\u001b[0m\u001b[0mgru\u001b[0m\u001b[0;34m,\u001b[0m\u001b[0mdtype\u001b[0m\u001b[0;34m=\u001b[0m\u001b[0mtf\u001b[0m\u001b[0;34m.\u001b[0m\u001b[0mfloat32\u001b[0m\u001b[0;34m)\u001b[0m\u001b[0;34m\u001b[0m\u001b[0m\n\u001b[0m\u001b[1;32m     90\u001b[0m         \u001b[0;32mif\u001b[0m \u001b[0mnormalize\u001b[0m\u001b[0;34m:\u001b[0m\u001b[0;34m\u001b[0m\u001b[0m\n\u001b[1;32m     91\u001b[0m             \u001b[0moutput\u001b[0m\u001b[0;34m=\u001b[0m\u001b[0mtl\u001b[0m\u001b[0;34m.\u001b[0m\u001b[0mlayers\u001b[0m\u001b[0;34m.\u001b[0m\u001b[0mbatch_normalization\u001b[0m\u001b[0;34m(\u001b[0m\u001b[0moutput\u001b[0m\u001b[0;34m)\u001b[0m\u001b[0;34m\u001b[0m\u001b[0m\n",
      "\u001b[0;32m/usr/local/lib/python3.5/dist-packages/tensorflow/python/ops/rnn.py\u001b[0m in \u001b[0;36mdynamic_rnn\u001b[0;34m(cell, inputs, sequence_length, initial_state, dtype, parallel_iterations, swap_memory, time_major, scope)\u001b[0m\n\u001b[1;32m    625\u001b[0m         \u001b[0mswap_memory\u001b[0m\u001b[0;34m=\u001b[0m\u001b[0mswap_memory\u001b[0m\u001b[0;34m,\u001b[0m\u001b[0;34m\u001b[0m\u001b[0m\n\u001b[1;32m    626\u001b[0m         \u001b[0msequence_length\u001b[0m\u001b[0;34m=\u001b[0m\u001b[0msequence_length\u001b[0m\u001b[0;34m,\u001b[0m\u001b[0;34m\u001b[0m\u001b[0m\n\u001b[0;32m--> 627\u001b[0;31m         dtype=dtype)\n\u001b[0m\u001b[1;32m    628\u001b[0m \u001b[0;34m\u001b[0m\u001b[0m\n\u001b[1;32m    629\u001b[0m     \u001b[0;31m# Outputs of _dynamic_rnn_loop are always shaped [time, batch, depth].\u001b[0m\u001b[0;34m\u001b[0m\u001b[0;34m\u001b[0m\u001b[0m\n",
      "\u001b[0;32m/usr/local/lib/python3.5/dist-packages/tensorflow/python/ops/rnn.py\u001b[0m in \u001b[0;36m_dynamic_rnn_loop\u001b[0;34m(cell, inputs, initial_state, parallel_iterations, swap_memory, sequence_length, dtype)\u001b[0m\n\u001b[1;32m    822\u001b[0m       \u001b[0mparallel_iterations\u001b[0m\u001b[0;34m=\u001b[0m\u001b[0mparallel_iterations\u001b[0m\u001b[0;34m,\u001b[0m\u001b[0;34m\u001b[0m\u001b[0m\n\u001b[1;32m    823\u001b[0m       \u001b[0mmaximum_iterations\u001b[0m\u001b[0;34m=\u001b[0m\u001b[0mtime_steps\u001b[0m\u001b[0;34m,\u001b[0m\u001b[0;34m\u001b[0m\u001b[0m\n\u001b[0;32m--> 824\u001b[0;31m       swap_memory=swap_memory)\n\u001b[0m\u001b[1;32m    825\u001b[0m \u001b[0;34m\u001b[0m\u001b[0m\n\u001b[1;32m    826\u001b[0m   \u001b[0;31m# Unpack final output if not using output tuples.\u001b[0m\u001b[0;34m\u001b[0m\u001b[0;34m\u001b[0m\u001b[0m\n",
      "\u001b[0;32m/usr/local/lib/python3.5/dist-packages/tensorflow/python/ops/control_flow_ops.py\u001b[0m in \u001b[0;36mwhile_loop\u001b[0;34m(cond, body, loop_vars, shape_invariants, parallel_iterations, back_prop, swap_memory, name, maximum_iterations)\u001b[0m\n\u001b[1;32m   3222\u001b[0m     \u001b[0;32mif\u001b[0m \u001b[0mloop_context\u001b[0m\u001b[0;34m.\u001b[0m\u001b[0mouter_context\u001b[0m \u001b[0;32mis\u001b[0m \u001b[0;32mNone\u001b[0m\u001b[0;34m:\u001b[0m\u001b[0;34m\u001b[0m\u001b[0m\n\u001b[1;32m   3223\u001b[0m       \u001b[0mops\u001b[0m\u001b[0;34m.\u001b[0m\u001b[0madd_to_collection\u001b[0m\u001b[0;34m(\u001b[0m\u001b[0mops\u001b[0m\u001b[0;34m.\u001b[0m\u001b[0mGraphKeys\u001b[0m\u001b[0;34m.\u001b[0m\u001b[0mWHILE_CONTEXT\u001b[0m\u001b[0;34m,\u001b[0m \u001b[0mloop_context\u001b[0m\u001b[0;34m)\u001b[0m\u001b[0;34m\u001b[0m\u001b[0m\n\u001b[0;32m-> 3224\u001b[0;31m     \u001b[0mresult\u001b[0m \u001b[0;34m=\u001b[0m \u001b[0mloop_context\u001b[0m\u001b[0;34m.\u001b[0m\u001b[0mBuildLoop\u001b[0m\u001b[0;34m(\u001b[0m\u001b[0mcond\u001b[0m\u001b[0;34m,\u001b[0m \u001b[0mbody\u001b[0m\u001b[0;34m,\u001b[0m \u001b[0mloop_vars\u001b[0m\u001b[0;34m,\u001b[0m \u001b[0mshape_invariants\u001b[0m\u001b[0;34m)\u001b[0m\u001b[0;34m\u001b[0m\u001b[0m\n\u001b[0m\u001b[1;32m   3225\u001b[0m     \u001b[0;32mif\u001b[0m \u001b[0mmaximum_iterations\u001b[0m \u001b[0;32mis\u001b[0m \u001b[0;32mnot\u001b[0m \u001b[0;32mNone\u001b[0m\u001b[0;34m:\u001b[0m\u001b[0;34m\u001b[0m\u001b[0m\n\u001b[1;32m   3226\u001b[0m       \u001b[0;32mreturn\u001b[0m \u001b[0mresult\u001b[0m\u001b[0;34m[\u001b[0m\u001b[0;36m1\u001b[0m\u001b[0;34m]\u001b[0m\u001b[0;34m\u001b[0m\u001b[0m\n",
      "\u001b[0;32m/usr/local/lib/python3.5/dist-packages/tensorflow/python/ops/control_flow_ops.py\u001b[0m in \u001b[0;36mBuildLoop\u001b[0;34m(self, pred, body, loop_vars, shape_invariants)\u001b[0m\n\u001b[1;32m   2954\u001b[0m       \u001b[0;32mwith\u001b[0m \u001b[0mops\u001b[0m\u001b[0;34m.\u001b[0m\u001b[0mget_default_graph\u001b[0m\u001b[0;34m(\u001b[0m\u001b[0;34m)\u001b[0m\u001b[0;34m.\u001b[0m\u001b[0m_lock\u001b[0m\u001b[0;34m:\u001b[0m  \u001b[0;31m# pylint: disable=protected-access\u001b[0m\u001b[0;34m\u001b[0m\u001b[0m\n\u001b[1;32m   2955\u001b[0m         original_body_result, exit_vars = self._BuildLoop(\n\u001b[0;32m-> 2956\u001b[0;31m             pred, body, original_loop_vars, loop_vars, shape_invariants)\n\u001b[0m\u001b[1;32m   2957\u001b[0m     \u001b[0;32mfinally\u001b[0m\u001b[0;34m:\u001b[0m\u001b[0;34m\u001b[0m\u001b[0m\n\u001b[1;32m   2958\u001b[0m       \u001b[0mself\u001b[0m\u001b[0;34m.\u001b[0m\u001b[0mExit\u001b[0m\u001b[0;34m(\u001b[0m\u001b[0;34m)\u001b[0m\u001b[0;34m\u001b[0m\u001b[0m\n",
      "\u001b[0;32m/usr/local/lib/python3.5/dist-packages/tensorflow/python/ops/control_flow_ops.py\u001b[0m in \u001b[0;36m_BuildLoop\u001b[0;34m(self, pred, body, original_loop_vars, loop_vars, shape_invariants)\u001b[0m\n\u001b[1;32m   2891\u001b[0m         flat_sequence=vars_for_body_with_tensor_arrays)\n\u001b[1;32m   2892\u001b[0m     \u001b[0mpre_summaries\u001b[0m \u001b[0;34m=\u001b[0m \u001b[0mops\u001b[0m\u001b[0;34m.\u001b[0m\u001b[0mget_collection\u001b[0m\u001b[0;34m(\u001b[0m\u001b[0mops\u001b[0m\u001b[0;34m.\u001b[0m\u001b[0mGraphKeys\u001b[0m\u001b[0;34m.\u001b[0m\u001b[0m_SUMMARY_COLLECTION\u001b[0m\u001b[0;34m)\u001b[0m  \u001b[0;31m# pylint: disable=protected-access\u001b[0m\u001b[0;34m\u001b[0m\u001b[0m\n\u001b[0;32m-> 2893\u001b[0;31m     \u001b[0mbody_result\u001b[0m \u001b[0;34m=\u001b[0m \u001b[0mbody\u001b[0m\u001b[0;34m(\u001b[0m\u001b[0;34m*\u001b[0m\u001b[0mpacked_vars_for_body\u001b[0m\u001b[0;34m)\u001b[0m\u001b[0;34m\u001b[0m\u001b[0m\n\u001b[0m\u001b[1;32m   2894\u001b[0m     \u001b[0mpost_summaries\u001b[0m \u001b[0;34m=\u001b[0m \u001b[0mops\u001b[0m\u001b[0;34m.\u001b[0m\u001b[0mget_collection\u001b[0m\u001b[0;34m(\u001b[0m\u001b[0mops\u001b[0m\u001b[0;34m.\u001b[0m\u001b[0mGraphKeys\u001b[0m\u001b[0;34m.\u001b[0m\u001b[0m_SUMMARY_COLLECTION\u001b[0m\u001b[0;34m)\u001b[0m  \u001b[0;31m# pylint: disable=protected-access\u001b[0m\u001b[0;34m\u001b[0m\u001b[0m\n\u001b[1;32m   2895\u001b[0m     \u001b[0;32mif\u001b[0m \u001b[0;32mnot\u001b[0m \u001b[0mnest\u001b[0m\u001b[0;34m.\u001b[0m\u001b[0mis_sequence\u001b[0m\u001b[0;34m(\u001b[0m\u001b[0mbody_result\u001b[0m\u001b[0;34m)\u001b[0m\u001b[0;34m:\u001b[0m\u001b[0;34m\u001b[0m\u001b[0m\n",
      "\u001b[0;32m/usr/local/lib/python3.5/dist-packages/tensorflow/python/ops/control_flow_ops.py\u001b[0m in \u001b[0;36m<lambda>\u001b[0;34m(i, lv)\u001b[0m\n\u001b[1;32m   3192\u001b[0m         cond = lambda i, lv: (  # pylint: disable=g-long-lambda\n\u001b[1;32m   3193\u001b[0m             math_ops.logical_and(i < maximum_iterations, orig_cond(*lv)))\n\u001b[0;32m-> 3194\u001b[0;31m         \u001b[0mbody\u001b[0m \u001b[0;34m=\u001b[0m \u001b[0;32mlambda\u001b[0m \u001b[0mi\u001b[0m\u001b[0;34m,\u001b[0m \u001b[0mlv\u001b[0m\u001b[0;34m:\u001b[0m \u001b[0;34m(\u001b[0m\u001b[0mi\u001b[0m \u001b[0;34m+\u001b[0m \u001b[0;36m1\u001b[0m\u001b[0;34m,\u001b[0m \u001b[0morig_body\u001b[0m\u001b[0;34m(\u001b[0m\u001b[0;34m*\u001b[0m\u001b[0mlv\u001b[0m\u001b[0;34m)\u001b[0m\u001b[0;34m)\u001b[0m\u001b[0;34m\u001b[0m\u001b[0m\n\u001b[0m\u001b[1;32m   3195\u001b[0m \u001b[0;34m\u001b[0m\u001b[0m\n\u001b[1;32m   3196\u001b[0m     \u001b[0;32mif\u001b[0m \u001b[0mcontext\u001b[0m\u001b[0;34m.\u001b[0m\u001b[0mexecuting_eagerly\u001b[0m\u001b[0;34m(\u001b[0m\u001b[0;34m)\u001b[0m\u001b[0;34m:\u001b[0m\u001b[0;34m\u001b[0m\u001b[0m\n",
      "\u001b[0;32m/usr/local/lib/python3.5/dist-packages/tensorflow/python/ops/rnn.py\u001b[0m in \u001b[0;36m_time_step\u001b[0;34m(time, output_ta_t, state)\u001b[0m\n\u001b[1;32m    793\u001b[0m           skip_conditionals=True)\n\u001b[1;32m    794\u001b[0m     \u001b[0;32melse\u001b[0m\u001b[0;34m:\u001b[0m\u001b[0;34m\u001b[0m\u001b[0m\n\u001b[0;32m--> 795\u001b[0;31m       \u001b[0;34m(\u001b[0m\u001b[0moutput\u001b[0m\u001b[0;34m,\u001b[0m \u001b[0mnew_state\u001b[0m\u001b[0;34m)\u001b[0m \u001b[0;34m=\u001b[0m \u001b[0mcall_cell\u001b[0m\u001b[0;34m(\u001b[0m\u001b[0;34m)\u001b[0m\u001b[0;34m\u001b[0m\u001b[0m\n\u001b[0m\u001b[1;32m    796\u001b[0m \u001b[0;34m\u001b[0m\u001b[0m\n\u001b[1;32m    797\u001b[0m     \u001b[0;31m# Pack state if using state tuples\u001b[0m\u001b[0;34m\u001b[0m\u001b[0;34m\u001b[0m\u001b[0m\n",
      "\u001b[0;32m/usr/local/lib/python3.5/dist-packages/tensorflow/python/ops/rnn.py\u001b[0m in \u001b[0;36m<lambda>\u001b[0;34m()\u001b[0m\n\u001b[1;32m    779\u001b[0m \u001b[0;34m\u001b[0m\u001b[0m\n\u001b[1;32m    780\u001b[0m     \u001b[0minput_t\u001b[0m \u001b[0;34m=\u001b[0m \u001b[0mnest\u001b[0m\u001b[0;34m.\u001b[0m\u001b[0mpack_sequence_as\u001b[0m\u001b[0;34m(\u001b[0m\u001b[0mstructure\u001b[0m\u001b[0;34m=\u001b[0m\u001b[0minputs\u001b[0m\u001b[0;34m,\u001b[0m \u001b[0mflat_sequence\u001b[0m\u001b[0;34m=\u001b[0m\u001b[0minput_t\u001b[0m\u001b[0;34m)\u001b[0m\u001b[0;34m\u001b[0m\u001b[0m\n\u001b[0;32m--> 781\u001b[0;31m     \u001b[0mcall_cell\u001b[0m \u001b[0;34m=\u001b[0m \u001b[0;32mlambda\u001b[0m\u001b[0;34m:\u001b[0m \u001b[0mcell\u001b[0m\u001b[0;34m(\u001b[0m\u001b[0minput_t\u001b[0m\u001b[0;34m,\u001b[0m \u001b[0mstate\u001b[0m\u001b[0;34m)\u001b[0m\u001b[0;34m\u001b[0m\u001b[0m\n\u001b[0m\u001b[1;32m    782\u001b[0m \u001b[0;34m\u001b[0m\u001b[0m\n\u001b[1;32m    783\u001b[0m     \u001b[0;32mif\u001b[0m \u001b[0msequence_length\u001b[0m \u001b[0;32mis\u001b[0m \u001b[0;32mnot\u001b[0m \u001b[0;32mNone\u001b[0m\u001b[0;34m:\u001b[0m\u001b[0;34m\u001b[0m\u001b[0m\n",
      "\u001b[0;32m/usr/local/lib/python3.5/dist-packages/tensorflow/python/ops/rnn_cell_impl.py\u001b[0m in \u001b[0;36m__call__\u001b[0;34m(self, inputs, state, scope)\u001b[0m\n\u001b[1;32m    230\u001b[0m         \u001b[0msetattr\u001b[0m\u001b[0;34m(\u001b[0m\u001b[0mself\u001b[0m\u001b[0;34m,\u001b[0m \u001b[0mscope_attrname\u001b[0m\u001b[0;34m,\u001b[0m \u001b[0mscope\u001b[0m\u001b[0;34m)\u001b[0m\u001b[0;34m\u001b[0m\u001b[0m\n\u001b[1;32m    231\u001b[0m       \u001b[0;32mwith\u001b[0m \u001b[0mscope\u001b[0m\u001b[0;34m:\u001b[0m\u001b[0;34m\u001b[0m\u001b[0m\n\u001b[0;32m--> 232\u001b[0;31m         \u001b[0;32mreturn\u001b[0m \u001b[0msuper\u001b[0m\u001b[0;34m(\u001b[0m\u001b[0mRNNCell\u001b[0m\u001b[0;34m,\u001b[0m \u001b[0mself\u001b[0m\u001b[0;34m)\u001b[0m\u001b[0;34m.\u001b[0m\u001b[0m__call__\u001b[0m\u001b[0;34m(\u001b[0m\u001b[0minputs\u001b[0m\u001b[0;34m,\u001b[0m \u001b[0mstate\u001b[0m\u001b[0;34m)\u001b[0m\u001b[0;34m\u001b[0m\u001b[0m\n\u001b[0m\u001b[1;32m    233\u001b[0m \u001b[0;34m\u001b[0m\u001b[0m\n\u001b[1;32m    234\u001b[0m   \u001b[0;32mdef\u001b[0m \u001b[0m_rnn_get_variable\u001b[0m\u001b[0;34m(\u001b[0m\u001b[0mself\u001b[0m\u001b[0;34m,\u001b[0m \u001b[0mgetter\u001b[0m\u001b[0;34m,\u001b[0m \u001b[0;34m*\u001b[0m\u001b[0margs\u001b[0m\u001b[0;34m,\u001b[0m \u001b[0;34m**\u001b[0m\u001b[0mkwargs\u001b[0m\u001b[0;34m)\u001b[0m\u001b[0;34m:\u001b[0m\u001b[0;34m\u001b[0m\u001b[0m\n",
      "\u001b[0;32m/usr/local/lib/python3.5/dist-packages/tensorflow/python/layers/base.py\u001b[0m in \u001b[0;36m__call__\u001b[0;34m(self, inputs, *args, **kwargs)\u001b[0m\n\u001b[1;32m    715\u001b[0m \u001b[0;34m\u001b[0m\u001b[0m\n\u001b[1;32m    716\u001b[0m         \u001b[0;32mif\u001b[0m \u001b[0;32mnot\u001b[0m \u001b[0min_deferred_mode\u001b[0m\u001b[0;34m:\u001b[0m\u001b[0;34m\u001b[0m\u001b[0m\n\u001b[0;32m--> 717\u001b[0;31m           \u001b[0moutputs\u001b[0m \u001b[0;34m=\u001b[0m \u001b[0mself\u001b[0m\u001b[0;34m.\u001b[0m\u001b[0mcall\u001b[0m\u001b[0;34m(\u001b[0m\u001b[0minputs\u001b[0m\u001b[0;34m,\u001b[0m \u001b[0;34m*\u001b[0m\u001b[0margs\u001b[0m\u001b[0;34m,\u001b[0m \u001b[0;34m**\u001b[0m\u001b[0mkwargs\u001b[0m\u001b[0;34m)\u001b[0m\u001b[0;34m\u001b[0m\u001b[0m\n\u001b[0m\u001b[1;32m    718\u001b[0m           \u001b[0;32mif\u001b[0m \u001b[0moutputs\u001b[0m \u001b[0;32mis\u001b[0m \u001b[0;32mNone\u001b[0m\u001b[0;34m:\u001b[0m\u001b[0;34m\u001b[0m\u001b[0m\n\u001b[1;32m    719\u001b[0m             raise ValueError('A layer\\'s `call` method should return a Tensor '\n",
      "\u001b[0;32m/usr/local/lib/python3.5/dist-packages/tensorflow/contrib/rnn/python/ops/rnn_cell.py\u001b[0m in \u001b[0;36mcall\u001b[0;34m(self, inputs, state)\u001b[0m\n\u001b[1;32m   1201\u001b[0m       \u001b[0minput_size\u001b[0m \u001b[0;34m=\u001b[0m \u001b[0minputs\u001b[0m\u001b[0;34m.\u001b[0m\u001b[0mget_shape\u001b[0m\u001b[0;34m(\u001b[0m\u001b[0;34m)\u001b[0m\u001b[0;34m.\u001b[0m\u001b[0mas_list\u001b[0m\u001b[0;34m(\u001b[0m\u001b[0;34m)\u001b[0m\u001b[0;34m[\u001b[0m\u001b[0;36m1\u001b[0m\u001b[0;34m]\u001b[0m\u001b[0;34m\u001b[0m\u001b[0m\n\u001b[1;32m   1202\u001b[0m     \u001b[0;32mif\u001b[0m \u001b[0mself\u001b[0m\u001b[0;34m.\u001b[0m\u001b[0m_linear1\u001b[0m \u001b[0;32mis\u001b[0m \u001b[0;32mNone\u001b[0m\u001b[0;34m:\u001b[0m\u001b[0;34m\u001b[0m\u001b[0m\n\u001b[0;32m-> 1203\u001b[0;31m       \u001b[0mself\u001b[0m\u001b[0;34m.\u001b[0m\u001b[0m_linear1\u001b[0m \u001b[0;34m=\u001b[0m \u001b[0m_Linear\u001b[0m\u001b[0;34m(\u001b[0m\u001b[0;34m[\u001b[0m\u001b[0minputs\u001b[0m\u001b[0;34m,\u001b[0m \u001b[0mattns\u001b[0m\u001b[0;34m]\u001b[0m\u001b[0;34m,\u001b[0m \u001b[0minput_size\u001b[0m\u001b[0;34m,\u001b[0m \u001b[0;32mTrue\u001b[0m\u001b[0;34m)\u001b[0m\u001b[0;34m\u001b[0m\u001b[0m\n\u001b[0m\u001b[1;32m   1204\u001b[0m     \u001b[0minputs\u001b[0m \u001b[0;34m=\u001b[0m \u001b[0mself\u001b[0m\u001b[0;34m.\u001b[0m\u001b[0m_linear1\u001b[0m\u001b[0;34m(\u001b[0m\u001b[0;34m[\u001b[0m\u001b[0minputs\u001b[0m\u001b[0;34m,\u001b[0m \u001b[0mattns\u001b[0m\u001b[0;34m]\u001b[0m\u001b[0;34m)\u001b[0m\u001b[0;34m\u001b[0m\u001b[0m\n\u001b[1;32m   1205\u001b[0m     \u001b[0mcell_output\u001b[0m\u001b[0;34m,\u001b[0m \u001b[0mnew_state\u001b[0m \u001b[0;34m=\u001b[0m \u001b[0mself\u001b[0m\u001b[0;34m.\u001b[0m\u001b[0m_cell\u001b[0m\u001b[0;34m(\u001b[0m\u001b[0minputs\u001b[0m\u001b[0;34m,\u001b[0m \u001b[0mstate\u001b[0m\u001b[0;34m)\u001b[0m\u001b[0;34m\u001b[0m\u001b[0m\n",
      "\u001b[0;32m/usr/local/lib/python3.5/dist-packages/tensorflow/contrib/rnn/python/ops/core_rnn_cell.py\u001b[0m in \u001b[0;36m__init__\u001b[0;34m(self, args, output_size, build_bias, bias_initializer, kernel_initializer)\u001b[0m\n\u001b[1;32m     97\u001b[0m           \u001b[0m_WEIGHTS_VARIABLE_NAME\u001b[0m\u001b[0;34m,\u001b[0m \u001b[0;34m[\u001b[0m\u001b[0mtotal_arg_size\u001b[0m\u001b[0;34m,\u001b[0m \u001b[0moutput_size\u001b[0m\u001b[0;34m]\u001b[0m\u001b[0;34m,\u001b[0m\u001b[0;34m\u001b[0m\u001b[0m\n\u001b[1;32m     98\u001b[0m           \u001b[0mdtype\u001b[0m\u001b[0;34m=\u001b[0m\u001b[0mdtype\u001b[0m\u001b[0;34m,\u001b[0m\u001b[0;34m\u001b[0m\u001b[0m\n\u001b[0;32m---> 99\u001b[0;31m           initializer=kernel_initializer)\n\u001b[0m\u001b[1;32m    100\u001b[0m       \u001b[0;32mif\u001b[0m \u001b[0mbuild_bias\u001b[0m\u001b[0;34m:\u001b[0m\u001b[0;34m\u001b[0m\u001b[0m\n\u001b[1;32m    101\u001b[0m         \u001b[0;32mwith\u001b[0m \u001b[0mvs\u001b[0m\u001b[0;34m.\u001b[0m\u001b[0mvariable_scope\u001b[0m\u001b[0;34m(\u001b[0m\u001b[0mouter_scope\u001b[0m\u001b[0;34m)\u001b[0m \u001b[0;32mas\u001b[0m \u001b[0minner_scope\u001b[0m\u001b[0;34m:\u001b[0m\u001b[0;34m\u001b[0m\u001b[0m\n",
      "\u001b[0;32m/usr/local/lib/python3.5/dist-packages/tensorflow/python/ops/variable_scope.py\u001b[0m in \u001b[0;36mget_variable\u001b[0;34m(name, shape, dtype, initializer, regularizer, trainable, collections, caching_device, partitioner, validate_shape, use_resource, custom_getter, constraint)\u001b[0m\n\u001b[1;32m   1315\u001b[0m       \u001b[0mpartitioner\u001b[0m\u001b[0;34m=\u001b[0m\u001b[0mpartitioner\u001b[0m\u001b[0;34m,\u001b[0m \u001b[0mvalidate_shape\u001b[0m\u001b[0;34m=\u001b[0m\u001b[0mvalidate_shape\u001b[0m\u001b[0;34m,\u001b[0m\u001b[0;34m\u001b[0m\u001b[0m\n\u001b[1;32m   1316\u001b[0m       \u001b[0muse_resource\u001b[0m\u001b[0;34m=\u001b[0m\u001b[0muse_resource\u001b[0m\u001b[0;34m,\u001b[0m \u001b[0mcustom_getter\u001b[0m\u001b[0;34m=\u001b[0m\u001b[0mcustom_getter\u001b[0m\u001b[0;34m,\u001b[0m\u001b[0;34m\u001b[0m\u001b[0m\n\u001b[0;32m-> 1317\u001b[0;31m       constraint=constraint)\n\u001b[0m\u001b[1;32m   1318\u001b[0m get_variable_or_local_docstring = (\n\u001b[1;32m   1319\u001b[0m     \"\"\"%s\n",
      "\u001b[0;32m/usr/local/lib/python3.5/dist-packages/tensorflow/python/ops/variable_scope.py\u001b[0m in \u001b[0;36mget_variable\u001b[0;34m(self, var_store, name, shape, dtype, initializer, regularizer, reuse, trainable, collections, caching_device, partitioner, validate_shape, use_resource, custom_getter, constraint)\u001b[0m\n\u001b[1;32m   1077\u001b[0m           \u001b[0mpartitioner\u001b[0m\u001b[0;34m=\u001b[0m\u001b[0mpartitioner\u001b[0m\u001b[0;34m,\u001b[0m \u001b[0mvalidate_shape\u001b[0m\u001b[0;34m=\u001b[0m\u001b[0mvalidate_shape\u001b[0m\u001b[0;34m,\u001b[0m\u001b[0;34m\u001b[0m\u001b[0m\n\u001b[1;32m   1078\u001b[0m           \u001b[0muse_resource\u001b[0m\u001b[0;34m=\u001b[0m\u001b[0muse_resource\u001b[0m\u001b[0;34m,\u001b[0m \u001b[0mcustom_getter\u001b[0m\u001b[0;34m=\u001b[0m\u001b[0mcustom_getter\u001b[0m\u001b[0;34m,\u001b[0m\u001b[0;34m\u001b[0m\u001b[0m\n\u001b[0;32m-> 1079\u001b[0;31m           constraint=constraint)\n\u001b[0m\u001b[1;32m   1080\u001b[0m \u001b[0;34m\u001b[0m\u001b[0m\n\u001b[1;32m   1081\u001b[0m   def _get_partitioned_variable(self,\n",
      "\u001b[0;32m/usr/local/lib/python3.5/dist-packages/tensorflow/python/ops/variable_scope.py\u001b[0m in \u001b[0;36mget_variable\u001b[0;34m(self, name, shape, dtype, initializer, regularizer, reuse, trainable, collections, caching_device, partitioner, validate_shape, use_resource, custom_getter, constraint)\u001b[0m\n\u001b[1;32m    415\u001b[0m       \u001b[0;32mif\u001b[0m \u001b[0;34m\"constraint\"\u001b[0m \u001b[0;32min\u001b[0m \u001b[0mestimator_util\u001b[0m\u001b[0;34m.\u001b[0m\u001b[0mfn_args\u001b[0m\u001b[0;34m(\u001b[0m\u001b[0mcustom_getter\u001b[0m\u001b[0;34m)\u001b[0m\u001b[0;34m:\u001b[0m\u001b[0;34m\u001b[0m\u001b[0m\n\u001b[1;32m    416\u001b[0m         \u001b[0mcustom_getter_kwargs\u001b[0m\u001b[0;34m[\u001b[0m\u001b[0;34m\"constraint\"\u001b[0m\u001b[0;34m]\u001b[0m \u001b[0;34m=\u001b[0m \u001b[0mconstraint\u001b[0m\u001b[0;34m\u001b[0m\u001b[0m\n\u001b[0;32m--> 417\u001b[0;31m       \u001b[0;32mreturn\u001b[0m \u001b[0mcustom_getter\u001b[0m\u001b[0;34m(\u001b[0m\u001b[0;34m**\u001b[0m\u001b[0mcustom_getter_kwargs\u001b[0m\u001b[0;34m)\u001b[0m\u001b[0;34m\u001b[0m\u001b[0m\n\u001b[0m\u001b[1;32m    418\u001b[0m     \u001b[0;32melse\u001b[0m\u001b[0;34m:\u001b[0m\u001b[0;34m\u001b[0m\u001b[0m\n\u001b[1;32m    419\u001b[0m       return _true_getter(\n",
      "\u001b[0;32m/usr/local/lib/python3.5/dist-packages/tensorflow/python/ops/rnn_cell_impl.py\u001b[0m in \u001b[0;36m_rnn_get_variable\u001b[0;34m(self, getter, *args, **kwargs)\u001b[0m\n\u001b[1;32m    233\u001b[0m \u001b[0;34m\u001b[0m\u001b[0m\n\u001b[1;32m    234\u001b[0m   \u001b[0;32mdef\u001b[0m \u001b[0m_rnn_get_variable\u001b[0m\u001b[0;34m(\u001b[0m\u001b[0mself\u001b[0m\u001b[0;34m,\u001b[0m \u001b[0mgetter\u001b[0m\u001b[0;34m,\u001b[0m \u001b[0;34m*\u001b[0m\u001b[0margs\u001b[0m\u001b[0;34m,\u001b[0m \u001b[0;34m**\u001b[0m\u001b[0mkwargs\u001b[0m\u001b[0;34m)\u001b[0m\u001b[0;34m:\u001b[0m\u001b[0;34m\u001b[0m\u001b[0m\n\u001b[0;32m--> 235\u001b[0;31m     \u001b[0mvariable\u001b[0m \u001b[0;34m=\u001b[0m \u001b[0mgetter\u001b[0m\u001b[0;34m(\u001b[0m\u001b[0;34m*\u001b[0m\u001b[0margs\u001b[0m\u001b[0;34m,\u001b[0m \u001b[0;34m**\u001b[0m\u001b[0mkwargs\u001b[0m\u001b[0;34m)\u001b[0m\u001b[0;34m\u001b[0m\u001b[0m\n\u001b[0m\u001b[1;32m    236\u001b[0m     \u001b[0;32mif\u001b[0m \u001b[0mcontext\u001b[0m\u001b[0;34m.\u001b[0m\u001b[0mexecuting_eagerly\u001b[0m\u001b[0;34m(\u001b[0m\u001b[0;34m)\u001b[0m\u001b[0;34m:\u001b[0m\u001b[0;34m\u001b[0m\u001b[0m\n\u001b[1;32m    237\u001b[0m       \u001b[0mtrainable\u001b[0m \u001b[0;34m=\u001b[0m \u001b[0mvariable\u001b[0m\u001b[0;34m.\u001b[0m\u001b[0m_trainable\u001b[0m  \u001b[0;31m# pylint: disable=protected-access\u001b[0m\u001b[0;34m\u001b[0m\u001b[0m\n",
      "\u001b[0;32m/usr/local/lib/python3.5/dist-packages/tensorflow/python/ops/variable_scope.py\u001b[0m in \u001b[0;36m_true_getter\u001b[0;34m(name, shape, dtype, initializer, regularizer, reuse, trainable, collections, caching_device, partitioner, validate_shape, use_resource, constraint)\u001b[0m\n\u001b[1;32m    392\u001b[0m           \u001b[0mtrainable\u001b[0m\u001b[0;34m=\u001b[0m\u001b[0mtrainable\u001b[0m\u001b[0;34m,\u001b[0m \u001b[0mcollections\u001b[0m\u001b[0;34m=\u001b[0m\u001b[0mcollections\u001b[0m\u001b[0;34m,\u001b[0m\u001b[0;34m\u001b[0m\u001b[0m\n\u001b[1;32m    393\u001b[0m           \u001b[0mcaching_device\u001b[0m\u001b[0;34m=\u001b[0m\u001b[0mcaching_device\u001b[0m\u001b[0;34m,\u001b[0m \u001b[0mvalidate_shape\u001b[0m\u001b[0;34m=\u001b[0m\u001b[0mvalidate_shape\u001b[0m\u001b[0;34m,\u001b[0m\u001b[0;34m\u001b[0m\u001b[0m\n\u001b[0;32m--> 394\u001b[0;31m           use_resource=use_resource, constraint=constraint)\n\u001b[0m\u001b[1;32m    395\u001b[0m \u001b[0;34m\u001b[0m\u001b[0m\n\u001b[1;32m    396\u001b[0m     \u001b[0;32mif\u001b[0m \u001b[0mcustom_getter\u001b[0m \u001b[0;32mis\u001b[0m \u001b[0;32mnot\u001b[0m \u001b[0;32mNone\u001b[0m\u001b[0;34m:\u001b[0m\u001b[0;34m\u001b[0m\u001b[0m\n",
      "\u001b[0;32m/usr/local/lib/python3.5/dist-packages/tensorflow/python/ops/variable_scope.py\u001b[0m in \u001b[0;36m_get_single_variable\u001b[0;34m(self, name, shape, dtype, initializer, regularizer, partition_info, reuse, trainable, collections, caching_device, validate_shape, use_resource, constraint)\u001b[0m\n\u001b[1;32m    731\u001b[0m                          \u001b[0;34m\"reuse=tf.AUTO_REUSE in VarScope? \"\u001b[0m\u001b[0;34m\u001b[0m\u001b[0m\n\u001b[1;32m    732\u001b[0m                          \"Originally defined at:\\n\\n%s\" % (\n\u001b[0;32m--> 733\u001b[0;31m                              name, \"\".join(traceback.format_list(tb))))\n\u001b[0m\u001b[1;32m    734\u001b[0m       \u001b[0mfound_var\u001b[0m \u001b[0;34m=\u001b[0m \u001b[0mself\u001b[0m\u001b[0;34m.\u001b[0m\u001b[0m_vars\u001b[0m\u001b[0;34m[\u001b[0m\u001b[0mname\u001b[0m\u001b[0;34m]\u001b[0m\u001b[0;34m\u001b[0m\u001b[0m\n\u001b[1;32m    735\u001b[0m       \u001b[0;32mif\u001b[0m \u001b[0;32mnot\u001b[0m \u001b[0mshape\u001b[0m\u001b[0;34m.\u001b[0m\u001b[0mis_compatible_with\u001b[0m\u001b[0;34m(\u001b[0m\u001b[0mfound_var\u001b[0m\u001b[0;34m.\u001b[0m\u001b[0mget_shape\u001b[0m\u001b[0;34m(\u001b[0m\u001b[0;34m)\u001b[0m\u001b[0;34m)\u001b[0m\u001b[0;34m:\u001b[0m\u001b[0;34m\u001b[0m\u001b[0m\n",
      "\u001b[0;31mValueError\u001b[0m: Variable context_query_similarity/rnn/attention_cell_wrapper/kernel already exists, disallowed. Did you mean to set reuse=True or reuse=tf.AUTO_REUSE in VarScope? Originally defined at:\n\n  File \"/usr/local/lib/python3.5/dist-packages/tensorflow/contrib/rnn/python/ops/core_rnn_cell.py\", line 99, in __init__\n    initializer=kernel_initializer)\n  File \"/usr/local/lib/python3.5/dist-packages/tensorflow/contrib/rnn/python/ops/rnn_cell.py\", line 1203, in call\n    self._linear1 = _Linear([inputs, attns], input_size, True)\n  File \"<ipython-input-93-164b05951de7>\", line 89, in _encoder_block\n    output,state=tf.nn.dynamic_rnn(inputs=inputs,cell=gru,dtype=tf.float32)\n"
     ],
     "output_type": "error"
    }
   ],
   "source": [
    "qanet=RNNQANet()"
   ]
  },
  {
   "cell_type": "code",
   "execution_count": null,
   "metadata": {},
   "outputs": [
    {
     "name": "stdout",
     "output_type": "stream",
     "text": [
      "batch loss 7.218927\n",
      "batch loss 6.508499\n",
      "batch loss 9.934282\n",
      "batch loss 33230.87\n"
     ]
    },
    {
     "ename": "KeyboardInterrupt",
     "evalue": "",
     "traceback": [
      "\u001b[0;31m---------------------------------------------------------------------------\u001b[0m",
      "\u001b[0;31mKeyboardInterrupt\u001b[0m                         Traceback (most recent call last)",
      "\u001b[0;32m<ipython-input-71-57d1158cfd46>\u001b[0m in \u001b[0;36m<module>\u001b[0;34m()\u001b[0m\n\u001b[1;32m     13\u001b[0m         \u001b[0my_start\u001b[0m\u001b[0;34m=\u001b[0m\u001b[0mnp\u001b[0m\u001b[0;34m.\u001b[0m\u001b[0marray\u001b[0m\u001b[0;34m(\u001b[0m\u001b[0mlmap\u001b[0m\u001b[0;34m(\u001b[0m\u001b[0;32mlambda\u001b[0m \u001b[0mx\u001b[0m\u001b[0;34m:\u001b[0m\u001b[0mx\u001b[0m\u001b[0;34m[\u001b[0m\u001b[0;34m'answer_span'\u001b[0m\u001b[0;34m]\u001b[0m\u001b[0;34m[\u001b[0m\u001b[0;36m0\u001b[0m\u001b[0;34m]\u001b[0m\u001b[0;34m,\u001b[0m\u001b[0mpara_questions\u001b[0m\u001b[0;34m)\u001b[0m\u001b[0;34m)\u001b[0m\u001b[0;34m\u001b[0m\u001b[0m\n\u001b[1;32m     14\u001b[0m         \u001b[0my_end\u001b[0m\u001b[0;34m=\u001b[0m\u001b[0mnp\u001b[0m\u001b[0;34m.\u001b[0m\u001b[0marray\u001b[0m\u001b[0;34m(\u001b[0m\u001b[0mlmap\u001b[0m\u001b[0;34m(\u001b[0m\u001b[0;32mlambda\u001b[0m \u001b[0mx\u001b[0m\u001b[0;34m:\u001b[0m\u001b[0mx\u001b[0m\u001b[0;34m[\u001b[0m\u001b[0;34m'answer_span'\u001b[0m\u001b[0;34m]\u001b[0m\u001b[0;34m[\u001b[0m\u001b[0;36m1\u001b[0m\u001b[0;34m]\u001b[0m\u001b[0;34m,\u001b[0m\u001b[0mpara_questions\u001b[0m\u001b[0;34m)\u001b[0m\u001b[0;34m)\u001b[0m\u001b[0;34m\u001b[0m\u001b[0m\n\u001b[0;32m---> 15\u001b[0;31m         \u001b[0mloss\u001b[0m\u001b[0;34m=\u001b[0m\u001b[0mqanet\u001b[0m\u001b[0;34m.\u001b[0m\u001b[0mtrain\u001b[0m\u001b[0;34m(\u001b[0m\u001b[0mcontext\u001b[0m\u001b[0;34m,\u001b[0m\u001b[0mquestion\u001b[0m\u001b[0;34m,\u001b[0m\u001b[0my_start\u001b[0m\u001b[0;34m,\u001b[0m\u001b[0my_end\u001b[0m\u001b[0;34m)\u001b[0m\u001b[0;34m\u001b[0m\u001b[0m\n\u001b[0m\u001b[1;32m     16\u001b[0m         \u001b[0mbatch_loss\u001b[0m\u001b[0;34m.\u001b[0m\u001b[0mappend\u001b[0m\u001b[0;34m(\u001b[0m\u001b[0mloss\u001b[0m\u001b[0;34m)\u001b[0m\u001b[0;34m\u001b[0m\u001b[0m\n\u001b[1;32m     17\u001b[0m         \u001b[0;32mif\u001b[0m \u001b[0mcount\u001b[0m\u001b[0;34m%\u001b[0m\u001b[0;36m1000\u001b[0m\u001b[0;34m==\u001b[0m\u001b[0;36m0\u001b[0m\u001b[0;34m:\u001b[0m\u001b[0;34m\u001b[0m\u001b[0m\n",
      "\u001b[0;32m<ipython-input-69-d154fea1c1de>\u001b[0m in \u001b[0;36mtrain\u001b[0;34m(self, context, question, y_start, y_end, drop_keep_prob)\u001b[0m\n\u001b[1;32m    104\u001b[0m             \u001b[0mself\u001b[0m\u001b[0;34m.\u001b[0m\u001b[0mdropout_keep_prob\u001b[0m\u001b[0;34m:\u001b[0m\u001b[0mdrop_keep_prob\u001b[0m\u001b[0;34m\u001b[0m\u001b[0m\n\u001b[1;32m    105\u001b[0m         }\n\u001b[0;32m--> 106\u001b[0;31m         \u001b[0m_\u001b[0m\u001b[0;34m,\u001b[0m\u001b[0mloss\u001b[0m\u001b[0;34m,\u001b[0m\u001b[0my_startloss\u001b[0m\u001b[0;34m,\u001b[0m\u001b[0my_endloss\u001b[0m\u001b[0;34m=\u001b[0m\u001b[0mself\u001b[0m\u001b[0;34m.\u001b[0m\u001b[0msession\u001b[0m\u001b[0;34m.\u001b[0m\u001b[0mrun\u001b[0m\u001b[0;34m(\u001b[0m\u001b[0;34m[\u001b[0m\u001b[0mself\u001b[0m\u001b[0;34m.\u001b[0m\u001b[0mtrain_op\u001b[0m\u001b[0;34m,\u001b[0m\u001b[0mself\u001b[0m\u001b[0;34m.\u001b[0m\u001b[0mtotal_loss\u001b[0m\u001b[0;34m,\u001b[0m\u001b[0mself\u001b[0m\u001b[0;34m.\u001b[0m\u001b[0my_start_loss\u001b[0m\u001b[0;34m,\u001b[0m\u001b[0mself\u001b[0m\u001b[0;34m.\u001b[0m\u001b[0my_end_loss\u001b[0m\u001b[0;34m]\u001b[0m\u001b[0;34m,\u001b[0m\u001b[0mfeed_dict\u001b[0m\u001b[0;34m=\u001b[0m\u001b[0mfeed_dict\u001b[0m\u001b[0;34m)\u001b[0m\u001b[0;34m\u001b[0m\u001b[0m\n\u001b[0m\u001b[1;32m    107\u001b[0m         \u001b[0;32mreturn\u001b[0m \u001b[0mloss\u001b[0m\u001b[0;34m,\u001b[0m\u001b[0my_startloss\u001b[0m\u001b[0;34m,\u001b[0m\u001b[0my_endloss\u001b[0m\u001b[0;34m\u001b[0m\u001b[0m\n\u001b[1;32m    108\u001b[0m \u001b[0;31m#     def predict(context,question):\u001b[0m\u001b[0;34m\u001b[0m\u001b[0;34m\u001b[0m\u001b[0m\n",
      "\u001b[0;32m/usr/local/lib/python3.5/dist-packages/tensorflow/python/client/session.py\u001b[0m in \u001b[0;36mrun\u001b[0;34m(self, fetches, feed_dict, options, run_metadata)\u001b[0m\n\u001b[1;32m    898\u001b[0m     \u001b[0;32mtry\u001b[0m\u001b[0;34m:\u001b[0m\u001b[0;34m\u001b[0m\u001b[0m\n\u001b[1;32m    899\u001b[0m       result = self._run(None, fetches, feed_dict, options_ptr,\n\u001b[0;32m--> 900\u001b[0;31m                          run_metadata_ptr)\n\u001b[0m\u001b[1;32m    901\u001b[0m       \u001b[0;32mif\u001b[0m \u001b[0mrun_metadata\u001b[0m\u001b[0;34m:\u001b[0m\u001b[0;34m\u001b[0m\u001b[0m\n\u001b[1;32m    902\u001b[0m         \u001b[0mproto_data\u001b[0m \u001b[0;34m=\u001b[0m \u001b[0mtf_session\u001b[0m\u001b[0;34m.\u001b[0m\u001b[0mTF_GetBuffer\u001b[0m\u001b[0;34m(\u001b[0m\u001b[0mrun_metadata_ptr\u001b[0m\u001b[0;34m)\u001b[0m\u001b[0;34m\u001b[0m\u001b[0m\n",
      "\u001b[0;32m/usr/local/lib/python3.5/dist-packages/tensorflow/python/client/session.py\u001b[0m in \u001b[0;36m_run\u001b[0;34m(self, handle, fetches, feed_dict, options, run_metadata)\u001b[0m\n\u001b[1;32m   1133\u001b[0m     \u001b[0;32mif\u001b[0m \u001b[0mfinal_fetches\u001b[0m \u001b[0;32mor\u001b[0m \u001b[0mfinal_targets\u001b[0m \u001b[0;32mor\u001b[0m \u001b[0;34m(\u001b[0m\u001b[0mhandle\u001b[0m \u001b[0;32mand\u001b[0m \u001b[0mfeed_dict_tensor\u001b[0m\u001b[0;34m)\u001b[0m\u001b[0;34m:\u001b[0m\u001b[0;34m\u001b[0m\u001b[0m\n\u001b[1;32m   1134\u001b[0m       results = self._do_run(handle, final_targets, final_fetches,\n\u001b[0;32m-> 1135\u001b[0;31m                              feed_dict_tensor, options, run_metadata)\n\u001b[0m\u001b[1;32m   1136\u001b[0m     \u001b[0;32melse\u001b[0m\u001b[0;34m:\u001b[0m\u001b[0;34m\u001b[0m\u001b[0m\n\u001b[1;32m   1137\u001b[0m       \u001b[0mresults\u001b[0m \u001b[0;34m=\u001b[0m \u001b[0;34m[\u001b[0m\u001b[0;34m]\u001b[0m\u001b[0;34m\u001b[0m\u001b[0m\n",
      "\u001b[0;32m/usr/local/lib/python3.5/dist-packages/tensorflow/python/client/session.py\u001b[0m in \u001b[0;36m_do_run\u001b[0;34m(self, handle, target_list, fetch_list, feed_dict, options, run_metadata)\u001b[0m\n\u001b[1;32m   1314\u001b[0m     \u001b[0;32mif\u001b[0m \u001b[0mhandle\u001b[0m \u001b[0;32mis\u001b[0m \u001b[0;32mNone\u001b[0m\u001b[0;34m:\u001b[0m\u001b[0;34m\u001b[0m\u001b[0m\n\u001b[1;32m   1315\u001b[0m       return self._do_call(_run_fn, feeds, fetches, targets, options,\n\u001b[0;32m-> 1316\u001b[0;31m                            run_metadata)\n\u001b[0m\u001b[1;32m   1317\u001b[0m     \u001b[0;32melse\u001b[0m\u001b[0;34m:\u001b[0m\u001b[0;34m\u001b[0m\u001b[0m\n\u001b[1;32m   1318\u001b[0m       \u001b[0;32mreturn\u001b[0m \u001b[0mself\u001b[0m\u001b[0;34m.\u001b[0m\u001b[0m_do_call\u001b[0m\u001b[0;34m(\u001b[0m\u001b[0m_prun_fn\u001b[0m\u001b[0;34m,\u001b[0m \u001b[0mhandle\u001b[0m\u001b[0;34m,\u001b[0m \u001b[0mfeeds\u001b[0m\u001b[0;34m,\u001b[0m \u001b[0mfetches\u001b[0m\u001b[0;34m)\u001b[0m\u001b[0;34m\u001b[0m\u001b[0m\n",
      "\u001b[0;32m/usr/local/lib/python3.5/dist-packages/tensorflow/python/client/session.py\u001b[0m in \u001b[0;36m_do_call\u001b[0;34m(self, fn, *args)\u001b[0m\n\u001b[1;32m   1320\u001b[0m   \u001b[0;32mdef\u001b[0m \u001b[0m_do_call\u001b[0m\u001b[0;34m(\u001b[0m\u001b[0mself\u001b[0m\u001b[0;34m,\u001b[0m \u001b[0mfn\u001b[0m\u001b[0;34m,\u001b[0m \u001b[0;34m*\u001b[0m\u001b[0margs\u001b[0m\u001b[0;34m)\u001b[0m\u001b[0;34m:\u001b[0m\u001b[0;34m\u001b[0m\u001b[0m\n\u001b[1;32m   1321\u001b[0m     \u001b[0;32mtry\u001b[0m\u001b[0;34m:\u001b[0m\u001b[0;34m\u001b[0m\u001b[0m\n\u001b[0;32m-> 1322\u001b[0;31m       \u001b[0;32mreturn\u001b[0m \u001b[0mfn\u001b[0m\u001b[0;34m(\u001b[0m\u001b[0;34m*\u001b[0m\u001b[0margs\u001b[0m\u001b[0;34m)\u001b[0m\u001b[0;34m\u001b[0m\u001b[0m\n\u001b[0m\u001b[1;32m   1323\u001b[0m     \u001b[0;32mexcept\u001b[0m \u001b[0merrors\u001b[0m\u001b[0;34m.\u001b[0m\u001b[0mOpError\u001b[0m \u001b[0;32mas\u001b[0m \u001b[0me\u001b[0m\u001b[0;34m:\u001b[0m\u001b[0;34m\u001b[0m\u001b[0m\n\u001b[1;32m   1324\u001b[0m       \u001b[0mmessage\u001b[0m \u001b[0;34m=\u001b[0m \u001b[0mcompat\u001b[0m\u001b[0;34m.\u001b[0m\u001b[0mas_text\u001b[0m\u001b[0;34m(\u001b[0m\u001b[0me\u001b[0m\u001b[0;34m.\u001b[0m\u001b[0mmessage\u001b[0m\u001b[0;34m)\u001b[0m\u001b[0;34m\u001b[0m\u001b[0m\n",
      "\u001b[0;32m/usr/local/lib/python3.5/dist-packages/tensorflow/python/client/session.py\u001b[0m in \u001b[0;36m_run_fn\u001b[0;34m(feed_dict, fetch_list, target_list, options, run_metadata)\u001b[0m\n\u001b[1;32m   1305\u001b[0m       \u001b[0mself\u001b[0m\u001b[0;34m.\u001b[0m\u001b[0m_extend_graph\u001b[0m\u001b[0;34m(\u001b[0m\u001b[0;34m)\u001b[0m\u001b[0;34m\u001b[0m\u001b[0m\n\u001b[1;32m   1306\u001b[0m       return self._call_tf_sessionrun(\n\u001b[0;32m-> 1307\u001b[0;31m           options, feed_dict, fetch_list, target_list, run_metadata)\n\u001b[0m\u001b[1;32m   1308\u001b[0m \u001b[0;34m\u001b[0m\u001b[0m\n\u001b[1;32m   1309\u001b[0m     \u001b[0;32mdef\u001b[0m \u001b[0m_prun_fn\u001b[0m\u001b[0;34m(\u001b[0m\u001b[0mhandle\u001b[0m\u001b[0;34m,\u001b[0m \u001b[0mfeed_dict\u001b[0m\u001b[0;34m,\u001b[0m \u001b[0mfetch_list\u001b[0m\u001b[0;34m)\u001b[0m\u001b[0;34m:\u001b[0m\u001b[0;34m\u001b[0m\u001b[0m\n",
      "\u001b[0;32m/usr/local/lib/python3.5/dist-packages/tensorflow/python/client/session.py\u001b[0m in \u001b[0;36m_call_tf_sessionrun\u001b[0;34m(self, options, feed_dict, fetch_list, target_list, run_metadata)\u001b[0m\n\u001b[1;32m   1407\u001b[0m       return tf_session.TF_SessionRun_wrapper(\n\u001b[1;32m   1408\u001b[0m           \u001b[0mself\u001b[0m\u001b[0;34m.\u001b[0m\u001b[0m_session\u001b[0m\u001b[0;34m,\u001b[0m \u001b[0moptions\u001b[0m\u001b[0;34m,\u001b[0m \u001b[0mfeed_dict\u001b[0m\u001b[0;34m,\u001b[0m \u001b[0mfetch_list\u001b[0m\u001b[0;34m,\u001b[0m \u001b[0mtarget_list\u001b[0m\u001b[0;34m,\u001b[0m\u001b[0;34m\u001b[0m\u001b[0m\n\u001b[0;32m-> 1409\u001b[0;31m           run_metadata)\n\u001b[0m\u001b[1;32m   1410\u001b[0m     \u001b[0;32melse\u001b[0m\u001b[0;34m:\u001b[0m\u001b[0;34m\u001b[0m\u001b[0m\n\u001b[1;32m   1411\u001b[0m       \u001b[0;32mwith\u001b[0m \u001b[0merrors\u001b[0m\u001b[0;34m.\u001b[0m\u001b[0mraise_exception_on_not_ok_status\u001b[0m\u001b[0;34m(\u001b[0m\u001b[0;34m)\u001b[0m \u001b[0;32mas\u001b[0m \u001b[0mstatus\u001b[0m\u001b[0;34m:\u001b[0m\u001b[0;34m\u001b[0m\u001b[0m\n",
      "\u001b[0;31mKeyboardInterrupt\u001b[0m: "
     ],
     "output_type": "error"
    }
   ],
   "source": [
    "epoch=1\n",
    "batch_index=list(paragraphs.keys())\n",
    "for e in range(epoch):\n",
    "    np.random.shuffle(batch_index)\n",
    "    batch_loss=[]\n",
    "    count=0\n",
    "    for bk in batch_index:\n",
    "        context=np.expand_dims(paragraphs[bk][1],axis=0)\n",
    "        para_questions=list(filter(lambda x:x['dp_id']==bk,processed_query))\n",
    "        if len(para_questions)==0:\n",
    "            continue\n",
    "        question=np.array(lmap(lambda x:x['query_embedding'],para_questions))\n",
    "        y_start=np.array(lmap(lambda x:x['answer_span'][0],para_questions))\n",
    "        y_end=np.array(lmap(lambda x:x['answer_span'][1],para_questions))\n",
    "        loss=qanet.train(context,question,y_start,y_end)\n",
    "        batch_loss.append(loss)\n",
    "        if count%1000==0:\n",
    "            print('batch loss',np.mean(batch_loss))\n",
    "            batch_loss=[]\n",
    "        count+=1\n",
    "#     for d_i,question,start,end,_ in known_questions:\n",
    "#         context=doc_embeddings[d_i][1]\n",
    "#         loss=qanet.train(context,question,start.reshape((start.shape[0],1)),end.reshape((end.shape[0],1)))"
   ]
  },
  {
   "cell_type": "code",
   "execution_count": 579,
   "metadata": {},
   "outputs": [
    {
     "data": {
      "text/plain": [
       "0.0"
      ]
     },
     "execution_count": 579,
     "metadata": {},
     "output_type": "execute_result"
    }
   ],
   "source": [
    "query_embeddings[0][2][0]"
   ]
  },
  {
   "cell_type": "code",
   "execution_count": 580,
   "metadata": {},
   "outputs": [
    {
     "data": {
      "text/plain": [
       "0.0"
      ]
     },
     "execution_count": 580,
     "metadata": {},
     "output_type": "execute_result"
    }
   ],
   "source": [
    "query_embeddings[0][3][0]"
   ]
  },
  {
   "cell_type": "code",
   "execution_count": 583,
   "metadata": {},
   "outputs": [
    {
     "data": {
      "text/plain": [
       "0.9353373752276447"
      ]
     },
     "execution_count": 583,
     "metadata": {},
     "output_type": "execute_result"
    }
   ],
   "source": [
    "len(list(filter(lambda x:x[2][0]!=1 and x[3][0]!=1,query_embeddings.values())))/len(query_embeddings)"
   ]
  },
  {
   "cell_type": "code",
   "execution_count": 588,
   "metadata": {},
   "outputs": [],
   "source": [
    "unknow_questions=list(filter(lambda x:x[3][0]==1 and x[3][0]==1,query_embeddings.values()))"
   ]
  },
  {
   "cell_type": "code",
   "execution_count": 589,
   "metadata": {},
   "outputs": [
    {
     "data": {
      "text/plain": [
       "(0, 10, array([[ 1.55454040e+00,  3.20265794e+00,  7.38620102e-01,\n",
       "          5.14726043e-01,  3.70297395e-02, -1.31857932e+00,\n",
       "         -2.70212245e+00, -8.23388994e-01, -5.47107719e-02,\n",
       "         -6.97586536e-01,  3.15777600e-01,  1.21209550e+00,\n",
       "         -7.64047086e-01, -2.48067474e+00,  1.15331352e+00,\n",
       "         -1.68379140e+00, -8.56794894e-01,  6.74513802e-02,\n",
       "         -1.52620971e-01,  2.14040041e+00,  1.36375082e+00,\n",
       "          1.50497705e-01, -8.61967921e-01, -3.85789752e+00,\n",
       "          4.05764580e-01, -3.59003216e-01, -1.42243373e+00,\n",
       "          1.70370197e+00,  1.64122891e+00, -9.52514470e-01,\n",
       "         -3.78340268e+00,  1.85256565e+00,  1.93335228e-02,\n",
       "         -1.61799312e+00,  1.15964508e+00, -1.02517354e+00,\n",
       "          2.72995770e-01,  1.23844337e+00, -5.92374206e-01,\n",
       "         -7.27590859e-01,  9.59439799e-02,  1.94971573e+00,\n",
       "          1.20297706e+00, -3.28392911e+00, -3.05100501e-01,\n",
       "          1.26752877e+00, -9.06824052e-01, -8.26224267e-01,\n",
       "          1.26848447e+00, -5.56877375e-01,  1.21075964e+00,\n",
       "         -3.59996175e-03,  3.42838264e+00,  2.33629465e+00,\n",
       "         -1.60085666e+00,  4.00786877e+00, -2.66404176e+00,\n",
       "         -3.74070466e-01, -8.78355563e-01,  1.84518600e+00,\n",
       "         -3.22215581e+00, -2.98439050e+00,  2.08358124e-01,\n",
       "         -9.21832144e-01,  9.19214010e-01,  7.48772919e-01,\n",
       "          5.37436306e-01, -1.53580546e+00,  6.84098303e-01,\n",
       "         -2.99793434e+00,  3.12353754e+00,  1.67982686e+00,\n",
       "          1.13397121e+00, -3.14731717e+00,  6.65352941e-01,\n",
       "         -1.69302318e-02, -3.23243284e+00,  1.09220278e+00,\n",
       "          1.25637010e-01, -2.11042476e+00,  1.79055667e+00,\n",
       "          1.85549390e+00,  2.62754440e+00, -3.58380961e+00,\n",
       "         -5.92145324e-01, -1.15359771e+00, -2.86461735e+00,\n",
       "          4.61888790e+00,  2.03214121e+00,  1.31622899e+00,\n",
       "          4.54079986e-01, -1.40600061e+00,  2.15479994e+00,\n",
       "         -3.98536730e+00,  1.41146064e+00, -2.55882263e+00,\n",
       "          2.08918190e+00,  9.25300419e-01,  2.05810547e+00,\n",
       "         -1.74582994e+00],\n",
       "        [-1.94841611e+00,  4.33281869e-01, -1.12046480e+00,\n",
       "          1.61457554e-01, -7.76728392e-01,  3.05755806e+00,\n",
       "         -1.77858031e+00,  2.35499930e+00, -1.31422424e+00,\n",
       "          2.05150843e-01,  1.48191667e+00, -2.76956081e-01,\n",
       "         -5.38612008e-01, -3.34186971e-01,  3.23901439e+00,\n",
       "          9.56811786e-01, -3.14666176e+00,  2.65862274e+00,\n",
       "          2.47949958e+00, -1.80014992e+00, -1.28575459e-01,\n",
       "          1.66081476e+00,  2.85469222e+00, -1.08320105e+00,\n",
       "         -1.45981538e+00,  1.32351124e+00, -8.02204907e-01,\n",
       "         -1.12062383e+00,  1.26436502e-01, -2.03642058e+00,\n",
       "         -1.21327066e+00,  3.19234467e+00,  1.41547585e+00,\n",
       "         -2.77463031e+00,  2.26525640e+00, -1.48667371e+00,\n",
       "          1.25455999e+00,  8.59228194e-01, -1.27331570e-01,\n",
       "         -3.72781813e-01, -2.04924655e+00,  1.15445244e+00,\n",
       "          4.82442468e-01, -1.56482077e+00,  3.14820051e+00,\n",
       "         -5.35938978e-01,  2.82075644e+00,  2.13948083e+00,\n",
       "          4.40351248e+00,  1.14466870e+00, -1.89749634e+00,\n",
       "          4.48269516e-01, -4.04202652e+00, -5.48502982e-01,\n",
       "          6.87790155e-01,  2.86445832e+00, -3.62656403e+00,\n",
       "         -1.82578981e+00,  5.81506848e-01,  1.37863314e+00,\n",
       "          2.01199746e+00,  1.22368768e-01,  2.55700636e+00,\n",
       "         -8.16277981e-01, -2.52783799e+00,  1.33833373e+00,\n",
       "         -7.82642663e-01, -2.73584700e+00,  2.25622845e+00,\n",
       "         -1.90178323e+00, -1.89218080e+00, -1.06319554e-01,\n",
       "          3.60102504e-01, -3.06396174e+00, -2.10374069e+00,\n",
       "          8.67220759e-01, -1.42558789e+00, -3.43212634e-01,\n",
       "          3.83560896e-01, -1.12118214e-01, -2.62099147e+00,\n",
       "         -1.13869345e+00,  1.14375964e-01,  2.89902568e+00,\n",
       "          2.52089977e+00, -1.49570739e+00, -2.32604909e+00,\n",
       "         -5.65590151e-02, -6.45843267e-01,  2.79187703e+00,\n",
       "         -2.79415995e-01, -1.27584016e+00, -2.69427681e+00,\n",
       "          6.75606191e-01,  1.40746891e+00, -1.80117297e+00,\n",
       "          2.52016932e-01, -3.06308288e-02,  1.15683329e+00,\n",
       "          2.86451650e+00],\n",
       "        [-8.88625205e-01, -3.05388480e-01,  2.51792938e-01,\n",
       "          5.31670861e-02,  7.71204084e-02,  1.99775052e+00,\n",
       "         -7.89471507e-01,  6.29099667e-01,  1.64235878e+00,\n",
       "         -5.78311801e-01, -9.72535685e-02,  1.08613956e+00,\n",
       "          2.24841326e-01, -8.43318924e-02,  6.46558702e-02,\n",
       "          4.05794919e-01, -1.60172868e+00,  1.06389952e+00,\n",
       "          2.40218496e+00,  3.03944170e-01,  4.42953289e-01,\n",
       "          2.02348304e+00,  1.40215659e+00,  8.12051237e-01,\n",
       "          5.61746359e-01, -1.08349872e+00, -9.28972587e-02,\n",
       "          2.40431577e-01, -5.77410817e-01, -2.49518251e+00,\n",
       "          1.82736719e+00, -4.22291368e-01, -4.07184005e-01,\n",
       "         -6.02099419e-01,  1.17424500e+00, -4.04004097e-01,\n",
       "         -1.25011340e-01, -7.02273846e-01,  1.83860540e-01,\n",
       "          8.97476733e-01, -1.64326680e+00,  4.57255810e-01,\n",
       "         -5.17419502e-02, -6.18811071e-01,  2.44223490e-01,\n",
       "          1.38305593e+00, -2.33329535e-01, -6.55275643e-01,\n",
       "          5.20255208e-01, -2.37279639e-01, -4.21015352e-01,\n",
       "          8.78472686e-01,  2.40530655e-01, -8.00721645e-01,\n",
       "          7.40924716e-01,  1.52948582e+00, -1.18880644e-01,\n",
       "         -1.33658695e+00, -7.20909417e-01,  3.35067213e-01,\n",
       "         -1.45089060e-01,  1.14385411e-01,  3.89479458e-01,\n",
       "         -5.85441530e-01, -4.04169321e-01,  5.36373079e-01,\n",
       "          1.04732871e+00, -6.74966991e-01,  8.79158199e-01,\n",
       "         -1.56870210e+00,  1.34804296e+00,  9.67995167e-01,\n",
       "         -1.87499964e+00, -1.29845130e+00,  8.45896780e-01,\n",
       "          5.72840095e-01, -1.39485657e+00, -5.53401589e-01,\n",
       "          4.56752777e-01, -1.92184672e-01, -1.04091775e+00,\n",
       "         -1.32430935e+00, -4.30672467e-02, -1.68466377e+00,\n",
       "          1.03954542e+00, -1.10596466e+00, -1.33663940e+00,\n",
       "         -9.28591847e-01,  1.08000147e+00,  1.48946330e-01,\n",
       "          1.06394134e-01, -5.38311541e-01, -3.05211216e-01,\n",
       "         -2.98810959e-01,  5.57969034e-01, -1.30912125e+00,\n",
       "          1.14586636e-01, -8.19439292e-01, -1.59116495e+00,\n",
       "         -2.90482253e-01],\n",
       "        [ 2.13269457e-01, -6.74984396e-01,  7.25125074e-01,\n",
       "         -1.28404593e+00, -2.14911437e+00,  3.74680072e-01,\n",
       "          5.99382162e+00, -2.93203902e+00,  8.64447713e-01,\n",
       "          3.25667715e+00, -1.01252723e+00,  1.82081914e+00,\n",
       "         -7.18077794e-02,  4.40599871e+00, -1.71693861e+00,\n",
       "          1.37443408e-01,  8.90973032e-01,  1.56725168e+00,\n",
       "          1.08735573e+00, -1.23335409e+00,  7.42761552e-01,\n",
       "          4.27129412e+00, -2.36331761e-01, -3.12880206e+00,\n",
       "          3.26869059e+00,  1.49598348e+00,  1.60867906e+00,\n",
       "         -3.81653786e-01,  2.01561165e+00, -1.27805412e+00,\n",
       "         -3.32197595e+00,  3.75121212e+00,  7.52923548e-01,\n",
       "         -2.36898199e-01,  1.51099336e+00,  2.55437523e-01,\n",
       "          5.21254349e+00,  2.05445504e+00, -1.90184569e+00,\n",
       "          9.61994588e-01, -7.17325330e-01,  1.45000315e+00,\n",
       "          5.35370052e-01, -1.99062049e+00,  1.48363507e+00,\n",
       "         -2.82827711e+00,  1.66162968e-01,  7.43318021e-01,\n",
       "         -1.27544546e+00,  1.42714024e+00,  6.70793474e-01,\n",
       "         -2.67250991e+00, -1.41963506e+00,  2.62608826e-01,\n",
       "         -1.89015687e+00,  1.72924884e-02,  1.58597380e-01,\n",
       "         -6.17726028e-01,  8.39874327e-01,  9.44301665e-01,\n",
       "         -1.52262092e+00,  4.56523746e-01, -1.43175328e+00,\n",
       "         -9.25500214e-01,  5.49334228e-01,  1.15844297e+00,\n",
       "         -1.00560868e+00, -3.50669694e+00,  3.28217268e-01,\n",
       "         -3.19588518e+00,  3.11169815e+00,  1.63011777e+00,\n",
       "         -2.94757247e+00,  3.05244088e-01, -1.67895603e+00,\n",
       "         -1.38503492e-01, -5.13129644e-02, -3.03842354e+00,\n",
       "          2.25155258e+00, -4.23683357e+00, -1.64219797e+00,\n",
       "          1.58463264e+00, -1.18130231e+00, -2.66284704e-01,\n",
       "         -2.32980490e+00,  3.42800689e+00, -1.84411800e+00,\n",
       "         -9.87598896e-01,  1.78857565e+00, -4.73480761e-01,\n",
       "         -1.03714883e-01, -5.04267931e+00,  7.11921692e-01,\n",
       "         -2.96723247e+00, -2.19422054e+00, -1.93553340e+00,\n",
       "          1.88592744e+00,  1.33324456e+00, -1.44128168e+00,\n",
       "         -1.85755682e+00],\n",
       "        [-1.56579268e+00,  4.44508314e+00,  8.36145520e-01,\n",
       "         -1.27952111e+00,  1.54354370e+00,  3.84123623e-01,\n",
       "          1.33069217e+00,  6.11098242e+00,  5.52365422e-01,\n",
       "         -2.71078825e+00, -1.17114484e+00, -2.29775357e+00,\n",
       "          2.25256252e+00, -1.66196153e-01,  1.24741480e-01,\n",
       "          2.36625671e+00, -3.01227570e+00, -1.68038762e+00,\n",
       "         -4.21580601e+00, -1.07386136e+00, -1.53582335e+00,\n",
       "          1.44346321e+00,  1.59849858e+00, -3.44739258e-01,\n",
       "         -9.71273780e-01, -2.69358420e+00, -2.10379767e+00,\n",
       "         -3.62286061e-01, -2.41333437e+00, -1.71646297e+00,\n",
       "         -4.07714158e-01, -2.18641686e+00, -3.37555099e+00,\n",
       "         -1.73699796e+00, -1.11398470e+00,  2.52322125e+00,\n",
       "         -1.23749602e+00,  4.60560036e+00, -2.98833108e+00,\n",
       "         -3.00997496e+00, -2.60541844e+00,  1.55610299e+00,\n",
       "          1.23026299e+00, -1.37308836e+00, -1.85771286e-01,\n",
       "          9.41407382e-02, -1.91102576e+00, -4.42428380e-01,\n",
       "         -9.10943091e-01,  1.06466568e+00,  2.34270111e-01,\n",
       "          4.11697388e+00,  2.15038848e+00, -1.15051675e+00,\n",
       "         -4.33823919e+00,  1.36234474e+00,  1.71856749e+00,\n",
       "         -5.40631950e-01, -2.34526372e+00, -1.93075609e+00,\n",
       "          1.04548275e+00,  1.70753407e+00,  2.96384335e+00,\n",
       "         -6.15722120e-01, -1.74820518e+00, -2.05289769e+00,\n",
       "         -3.17068982e+00, -7.85851359e-01, -1.43929875e+00,\n",
       "          4.58404398e+00,  1.57387137e+00,  3.88880998e-01,\n",
       "         -8.44670355e-01, -2.32388043e+00,  2.53661823e+00,\n",
       "         -4.77206707e-01, -1.27483487e+00, -7.00082242e-01,\n",
       "          4.29638863e+00, -1.74689114e+00,  2.02433062e+00,\n",
       "          8.26840997e-01,  8.98249745e-01,  3.22365665e+00,\n",
       "         -5.83149612e-01, -4.87815797e-01,  2.54872561e-01,\n",
       "         -3.72157550e+00, -4.93785238e+00,  1.36538947e+00,\n",
       "          9.04439330e-01, -1.03031445e+00,  4.66551036e-01,\n",
       "         -2.53534412e+00,  1.95719016e+00, -9.69811499e-01,\n",
       "         -2.28262806e+00, -4.06253904e-01, -1.08793390e+00,\n",
       "          7.36475587e-01],\n",
       "        [ 8.43074262e-01,  1.99330881e-01,  9.37779903e-01,\n",
       "         -6.10304475e-01,  1.23710620e+00,  3.03053689e+00,\n",
       "          5.01672029e-01,  1.35891676e+00, -1.83183002e+00,\n",
       "         -3.12108421e+00, -1.29177499e+00,  1.11788833e+00,\n",
       "         -1.04392624e+00, -1.27798140e+00, -1.63286150e+00,\n",
       "          1.61916077e+00,  8.18656623e-01, -1.41024530e+00,\n",
       "         -5.18725061e+00, -1.84405744e+00, -1.98921084e+00,\n",
       "          2.29390883e+00, -3.00781202e+00, -3.62166953e+00,\n",
       "          6.67310297e-01,  1.27633321e+00, -2.83553910e+00,\n",
       "         -5.27767837e-01, -2.13284993e+00, -5.79066813e-01,\n",
       "          6.94901884e-01, -7.27796674e-01,  1.32600832e+00,\n",
       "         -3.39159989e+00,  2.22597098e+00, -8.98732767e-02,\n",
       "          1.65999448e+00, -2.73927093e-01, -3.78800869e+00,\n",
       "          5.50221205e-01, -1.14968014e+00, -9.29914787e-03,\n",
       "          5.37237108e-01,  1.76726103e+00, -2.67298412e+00,\n",
       "         -1.74505162e+00,  8.85754108e-01,  2.18551850e+00,\n",
       "          8.73767257e-01,  1.02867508e+00,  2.86472440e+00,\n",
       "          7.85829723e-01,  1.16693687e+00,  6.20919883e-01,\n",
       "         -2.10080147e+00,  9.46487367e-01,  1.24954581e+00,\n",
       "         -2.32745743e+00, -6.82019889e-01,  1.25025320e+00,\n",
       "          2.78847718e+00,  1.83653995e-01, -5.51591814e-01,\n",
       "          1.25356495e+00,  3.88037950e-01,  2.34822273e+00,\n",
       "         -1.08589125e+00, -1.99375844e+00,  9.51198339e-01,\n",
       "          2.04091239e+00,  2.32464004e+00,  3.79159951e+00,\n",
       "         -3.11920929e+00, -3.14248681e+00, -3.47773123e+00,\n",
       "         -3.19118881e+00,  1.47085536e+00, -2.92534089e+00,\n",
       "          3.15142941e+00,  5.85626550e-02,  2.50588274e+00,\n",
       "          2.72568792e-01,  1.57565486e+00, -3.59843040e+00,\n",
       "         -1.00959206e+00, -1.93757451e+00, -2.70063114e+00,\n",
       "         -1.44901085e+00, -1.00563025e+00,  1.59619879e-02,\n",
       "         -6.24060154e-01,  1.83146492e-01, -2.71141052e+00,\n",
       "         -8.72201979e-01, -9.30319190e-01, -3.34656715e+00,\n",
       "         -1.50205457e+00,  3.07208347e+00, -3.10171986e+00,\n",
       "          4.23197556e+00],\n",
       "        [ 2.55729818e+00, -3.20332438e-01, -2.92911649e+00,\n",
       "          8.53172898e-01, -1.01775181e+00, -1.37195480e+00,\n",
       "          1.85613587e-01, -1.72231674e+00, -2.23019671e+00,\n",
       "         -8.41493249e-01, -8.61902654e-01, -5.83853900e-01,\n",
       "          1.36336088e+00,  7.93929100e-01,  6.24896705e-01,\n",
       "         -2.37931776e+00, -2.27632570e+00,  1.07073307e+00,\n",
       "          7.90336430e-01, -1.69086564e+00,  2.64254630e-01,\n",
       "          1.31798899e+00, -2.26385534e-01, -2.90912223e+00,\n",
       "          9.62018549e-01, -1.11142004e+00, -1.59431732e+00,\n",
       "          6.54784501e-01,  1.22322154e+00,  1.08284640e+00,\n",
       "          2.34461045e+00,  3.33938122e+00, -1.90880024e+00,\n",
       "         -8.05879295e-01, -1.06048489e+00,  1.83846283e+00,\n",
       "          1.84906006e+00,  1.35591173e+00,  2.99362298e-02,\n",
       "          4.03347999e-01, -3.45613122e+00, -8.91914248e-01,\n",
       "          1.28870773e+00,  1.14575589e+00, -1.11178525e-01,\n",
       "          9.19658363e-01, -1.80830419e+00, -6.02018178e-01,\n",
       "          1.81317675e+00,  7.87809670e-01,  1.36247253e+00,\n",
       "          1.06161785e+00, -4.37873788e-02,  2.20622897e+00,\n",
       "         -4.15851772e-01, -8.09066474e-01, -1.98766208e+00,\n",
       "         -2.63929278e-01, -3.50582182e-01, -2.27786589e+00,\n",
       "         -9.42028940e-01, -7.20349371e-01, -9.18765485e-01,\n",
       "          3.59546304e+00,  1.42264390e+00, -3.85509431e-01,\n",
       "         -3.24894279e-01, -9.06714320e-01, -1.09384370e+00,\n",
       "         -2.40190291e+00,  1.90286326e+00,  3.03420448e+00,\n",
       "         -7.22453713e-01, -1.08325863e+00, -5.45700192e-01,\n",
       "          2.01145366e-01,  1.08123958e+00, -4.24618907e-02,\n",
       "         -1.68298364e+00,  2.50939161e-01, -7.48752654e-01,\n",
       "         -1.02770805e+00,  1.27358913e+00, -1.60395169e+00,\n",
       "         -3.61176312e-01, -5.93135834e-01, -7.97820807e-01,\n",
       "          1.90878510e+00, -2.56362700e+00,  7.70278156e-01,\n",
       "         -3.10598373e-01,  3.89452308e-01,  1.19794035e+00,\n",
       "         -8.82490754e-01, -1.45778942e+00, -1.23035979e+00,\n",
       "          1.00256586e+00,  8.92621636e-01, -3.38565558e-01,\n",
       "         -1.90250647e+00],\n",
       "        [ 7.87671581e-02,  1.41466409e-01,  2.23639552e-02,\n",
       "          1.82086200e-01,  1.41806573e-01,  9.37643126e-02,\n",
       "          3.40921506e-02, -1.46745667e-01,  1.78302482e-01,\n",
       "         -1.21714482e-02,  6.35114834e-02,  2.07807764e-01,\n",
       "          9.97577980e-02, -2.00204730e-01, -1.01745211e-01,\n",
       "          2.87683904e-01, -5.19455411e-02,  2.10946351e-01,\n",
       "          2.38341875e-02, -3.23063612e-01, -2.23683268e-01,\n",
       "          2.71361649e-01,  2.36367449e-01, -4.24712375e-02,\n",
       "          9.57676619e-02, -9.98704582e-02,  4.52686660e-03,\n",
       "          6.57254755e-02, -4.95195203e-02, -3.11047643e-01,\n",
       "          1.21377304e-01, -8.64999518e-02,  1.71889842e-01,\n",
       "         -1.21037789e-01, -1.45851355e-02, -3.70097123e-02,\n",
       "          1.73063532e-01, -9.42418128e-02, -6.41371459e-02,\n",
       "         -9.95107070e-02,  6.21430576e-03, -3.82199809e-02,\n",
       "          1.06356598e-01, -6.46571070e-02,  2.56696939e-01,\n",
       "         -4.28135088e-03,  5.21504842e-02, -5.06490171e-01,\n",
       "          7.42541701e-02,  1.24044986e-02,  1.04915816e-02,\n",
       "          1.55910417e-01,  2.29187347e-02, -4.18525934e-02,\n",
       "         -2.96422660e-01,  1.75581023e-01, -1.09110028e-01,\n",
       "          1.78993382e-02,  1.33684233e-01, -6.85368925e-02,\n",
       "          7.67684206e-02, -6.80970103e-02, -2.13114661e-04,\n",
       "          1.71368912e-01, -1.70492530e-01, -7.37536186e-03,\n",
       "         -7.90147334e-02, -1.27936020e-01,  1.26576722e-01,\n",
       "         -3.55023332e-02,  5.34933507e-02,  1.38870522e-01,\n",
       "         -1.84182316e-01, -2.41232917e-01,  1.01406299e-01,\n",
       "          3.14214587e-01, -2.52760887e-01,  1.48562323e-02,\n",
       "          2.13538259e-02,  1.04960084e-01,  2.46878732e-02,\n",
       "         -1.78495571e-01, -7.52999214e-03, -1.95655897e-01,\n",
       "          5.30245714e-02,  1.51170790e-01, -5.15139475e-02,\n",
       "          9.46935043e-02,  2.45967299e-01,  8.92868638e-02,\n",
       "          2.76276499e-01, -2.94098377e-01, -3.36419791e-02,\n",
       "         -6.50600269e-02,  2.16112420e-01, -1.15052663e-01,\n",
       "         -1.64822582e-02, -4.88883592e-02,  8.18020627e-02,\n",
       "         -5.51286042e-02]], dtype=float32), array([1., 0., 0., ..., 0., 0., 0.], dtype=float32), array([1., 0., 0., ..., 0., 0., 0.], dtype=float32), ['f'])"
      ]
     },
     "execution_count": 589,
     "metadata": {},
     "output_type": "execute_result"
    }
   ],
   "source": [
    "unknow_questions[0]"
   ]
  },
  {
   "cell_type": "code",
   "execution_count": 590,
   "metadata": {},
   "outputs": [
    {
     "data": {
      "text/plain": [
       "{'docid': 0,\n",
       " 'question': 'what is frequency also known as in science?',\n",
       " 'text': 'f'}"
      ]
     },
     "execution_count": 590,
     "metadata": {},
     "output_type": "execute_result"
    }
   ],
   "source": [
    "query[10]"
   ]
  },
  {
   "cell_type": "code",
   "execution_count": 592,
   "metadata": {},
   "outputs": [
    {
     "data": {
      "text/plain": [
       "\"first recognized in 1900 by max planck, it was originally the proportionality constant between the minimal increment of energy, e, of a hypothetical electrically charged oscillator in a cavity that contained black body radiation, and the frequency, f, of its associated electromagnetic wave. in 1905 the value e, the minimal energy increment of a hypothetical oscillator, was theoretically associated by einstein with a quantum or minimal element of the energy of the electromagnetic wave itself. the light quantum behaved in some respects as an electrically neutral particle, as opposed to an electromagnetic wave. it was eventually called the photon. classical statistical mechanics requires the existence of h (but does not define its value). eventually, following upon planck's discovery, it was recognized that physical action cannot take on an arbitrary value. instead, it must be some multiple of a very small quantity, the quantum of action, now called the planck constant. classical physics cannot explain this fact. in many cases, such as for monochromatic light or for atoms, this quantum of action also implies that only certain energy levels are allowed, and values in between are forbidden. equivalently, the smallness of the planck constant reflects the fact that everyday objects and systems are made of a large number of particles. for example, green light with a wavelength of 555 nanometres (the approximate wavelength to which human eyes are most sensitive) has a frequency of 7014540000000000000♠540 thz (7014540000000000000♠540×1012 hz). each photon has an energy e = hf = 6981358000000000000♠3.58×10−19 j. that is a very small amount of energy in terms of everyday experience, but everyday experience is not concerned with individual photons any more than with individual atoms or molecules. an amount of light compatible with everyday experience is the energy of one mole of photons; its energy can be computed by multiplying the photon energy by the avogadro constant, na ≈ 7023602200000000000♠6.022×1023 mol−1. the result is that green light of wavelength 555 nm has an energy of 7005216000000000000♠216 kj/mol, a typical energy of everyday life. in the last years of the nineteenth century, planck was investigating the problem of black-body radiation first posed by kirchhoff some forty years earlier. it is well known that hot objects glow, and that hotter objects glow brighter than cooler ones. the electromagnetic field obeys laws of motion similarly to a mass on a spring, and can come to thermal equilibrium with hot atoms. the hot object in equilibrium with light absorbs just as much light as it emits. if the object is black, meaning it absorbs all the light that hits it, then its thermal light emission is maximized. the assumption that black-body radiation is thermal leads to an accurate prediction: the total amount of emitted energy goes up with the temperature according to a definite rule, the stefan–boltzmann law (1879–84). but it was also known that the colour of the light given off by a hot object changes with the temperature, so that white hot is hotter than red hot. nevertheless, wilhelm wien discovered the mathematical relationship between the peaks of the curves at different temperatures, by using the principle of adiabatic invariance. at each different temperature, the curve is moved over by wien's displacement law (1893). wien also proposed an approximation for the spectrum of the object, which was correct at high frequencies (short wavelength) but not at low frequencies (long wavelength). it still was not clear why the spectrum of a hot object had the form that it has (see diagram). prior to planck's work, it had been assumed that the energy of a body could take on any value whatsoever – that it was a continuous variable. the rayleigh–jeans law makes close predictions for a narrow range of values at one limit of temperatures, but the results diverge more and more strongly as temperatures increase. to make planck's law, which correctly predicts blackbody emissions, it was necessary to multiply the classical expression by a complex factor that involves h in both the numerator and the denominator. the influence of h in this complex factor would not disappear if it were set to zero or to any other value. making an equation out of planck's law that would reproduce the rayleigh–jeans law could not be done by changing the values of h, of the boltzmann constant, or of any other constant or variable in the equation. in this case the picture given by classical physics is not duplicated by a range of results in the quantum picture. the black-body problem was revisited in 1905, when rayleigh and jeans (on the one hand) and einstein (on the other hand) independently proved that classical electromagnetism could never account for the observed spectrum. these proofs are commonly known as the ultraviolet catastrophe, a name coined by paul ehrenfest in 1911. they contributed greatly (along with einstein's work on the photoelectric effect) to convincing physicists that planck's postulate of quantized energy levels was more than a mere mathematical formalism. the very first solvay conference in 1911 was devoted to the theory of radiation and quanta. max planck received the 1918 nobel prize in physics in recognition of the services he rendered to the advancement of physics by his discovery of energy quanta. the photoelectric effect is the emission of electrons (called photoelectrons) from a surface when light is shone on it. it was first observed by alexandre edmond becquerel in 1839, although credit is usually reserved for heinrich hertz, who published the first thorough investigation in 1887. another particularly thorough investigation was published by philipp lenard in 1902. einstein's 1905 paper discussing the effect in terms of light quanta would earn him the nobel prize in 1921, when his predictions had been confirmed by the experimental work of robert andrews millikan. the nobel committee awarded the prize for his work on the photo-electric effect, rather than relativity, both because of a bias against purely theoretical physics not grounded in discovery or experiment, and dissent amongst its members as to the actual proof that relativity was real. prior to einstein's paper, electromagnetic radiation such as visible light was considered to behave as a wave: hence the use of the terms frequency and wavelength to characterise different types of radiation. the energy transferred by a wave in a given time is called its intensity. the light from a theatre spotlight is more intense than the light from a domestic lightbulb; that is to say that the spotlight gives out more energy per unit time and per unit space(and hence consumes more electricity) than the ordinary bulb, even though the colour of the light might be very similar. other waves, such as sound or the waves crashing against a seafront, also have their own intensity. however, the energy account of the photoelectric effect didn't seem to agree with the wave description of light. the photoelectrons emitted as a result of the photoelectric effect have a certain kinetic energy, which can be measured. this kinetic energy (for each photoelectron) is independent of the intensity of the light, but depends linearly on the frequency; and if the frequency is too low (corresponding to a photon energy that is less than the work function of the material), no photoelectrons are emitted at all, unless a plurality of photons, whose energetic sum is greater than the energy of the photoelectrons, acts virtually simultaneously (multiphoton effect)  assuming the frequency is high enough to cause the photoelectric effect, a rise in intensity of the light source causes more photoelectrons to be emitted with the same kinetic energy, rather than the same number of photoelectrons to be emitted with higher kinetic energy. niels bohr introduced the first quantized model of the atom in 1913, in an attempt to overcome a major shortcoming of rutherford's classical model. in classical electrodynamics, a charge moving in a circle should radiate electromagnetic radiation. if that charge were to be an electron orbiting a nucleus, the radiation would cause it to lose energy and spiral down into the nucleus. bohr solved this paradox with explicit reference to planck's work: an electron in a bohr atom could only have certain defined energies en bohr also introduced the quantity , now known as the reduced planck constant, as the quantum of angular momentum. at first, bohr thought that this was the angular momentum of each electron in an atom: this proved incorrect and, despite developments by sommerfeld and others, an accurate description of the electron angular momentum proved beyond the bohr model. the correct quantization rules for electrons – in which the energy reduces to the bohr model equation in the case of the hydrogen atom – were given by heisenberg's matrix mechanics in 1925 and the schrödinger wave equation in 1926: the reduced planck constant remains the fundamental quantum of angular momentum. in modern terms, if j is the total angular momentum of a system with rotational invariance, and jz the angular momentum measured along any given direction, these quantities can only take on the values where the uncertainty is given as the standard deviation of the measured value from its expected value. there are a number of other such pairs of physically measurable values which obey a similar rule. one example is time vs. energy. the either-or nature of uncertainty forces measurement attempts to choose between trade offs, and given that they are quanta, the trade offs often take the form of either-or (as in fourier analysis), rather than the compromises and gray areas of time series analysis. the bohr magneton and the nuclear magneton are units which are used to describe the magnetic properties of the electron and atomic nuclei respectively. the bohr magneton is the magnetic moment which would be expected for an electron if it behaved as a spinning charge according to classical electrodynamics. it is defined in terms of the reduced planck constant, the elementary charge and the electron mass, all of which depend on the planck constant: the final dependence on h1/2 (r2 > 0.995) can be found by expanding the variables. in principle, the planck constant could be determined by examining the spectrum of a black-body radiator or the kinetic energy of photoelectrons, and this is how its value was first calculated in the early twentieth century. in practice, these are no longer the most accurate methods. the codata value quoted here is based on three watt-balance measurements of kj2rk and one inter-laboratory determination of the molar volume of silicon, but is mostly determined by a 2007 watt-balance measurement made at the u.s. national institute of standards and technology (nist). five other measurements by three different methods were initially considered, but not included in the final refinement as they were too imprecise to affect the result. there are both practical and theoretical difficulties in determining h. the practical difficulties can be illustrated by the fact that the two most accurate methods, the watt balance and the x-ray crystal density method, do not appear to agree with one another. the most likely reason is that the measurement uncertainty for one (or both) of the methods has been estimated too low – it is (or they are) not as precise as is currently believed – but for the time being there is no indication which method is at fault. the theoretical difficulties arise from the fact that all of the methods except the x-ray crystal density method rely on the theoretical basis of the josephson effect and the quantum hall effect. if these theories are slightly inaccurate – though there is no evidence at present to suggest they are – the methods would not give accurate values for the planck constant. more importantly, the values of the planck constant obtained in this way cannot be used as tests of the theories without falling into a circular argument. fortunately, there are other statistical ways of testing the theories, and the theories have yet to be refuted. a watt balance is an instrument for comparing two powers, one of which is measured in si watts and the other of which is measured in conventional electrical units. from the definition of the conventional watt w90, this gives a measure of the product kj2rk in si units, where rk is the von klitzing constant which appears in the quantum hall effect. if the theoretical treatments of the josephson effect and the quantum hall effect are valid, and in particular assuming that rk = h/e2, the measurement of kj2rk is a direct determination of the planck constant. the gyromagnetic ratio γ is the constant of proportionality between the frequency ν of nuclear magnetic resonance (or electron paramagnetic resonance for electrons) and the applied magnetic field b: ν = γb. it is difficult to measure gyromagnetic ratios precisely because of the difficulties in precisely measuring b, but the value for protons in water at 7002298150000000000♠25 °c is known to better than one part per million. the protons are said to be shielded from the applied magnetic field by the electrons in the water molecule, the same effect that gives rise to chemical shift in nmr spectroscopy, and this is indicated by a prime on the symbol for the gyromagnetic ratio, γ′p. the gyromagnetic ratio is related to the shielded proton magnetic moment μ′p, the spin number i (i = 1⁄2 for protons) and the reduced planck constant. a further complication is that the measurement of γ′p involves the measurement of an electric current: this is invariably measured in conventional amperes rather than in si amperes, so a conversion factor is required. the symbol γ′p-90 is used for the measured gyromagnetic ratio using conventional electrical units. in addition, there are two methods of measuring the value, a low-field method and a high-field method, and the conversion factors are different in the two cases. only the high-field value γ′p-90(hi) is of interest in determining the planck constant. the faraday constant f is the charge of one mole of electrons, equal to the avogadro constant na multiplied by the elementary charge e. it can be determined by careful electrolysis experiments, measuring the amount of silver dissolved from an electrode in a given time and for a given electric current. in practice, it is measured in conventional electrical units, and so given the symbol f90. substituting the definitions of na and e, and converting from conventional electrical units to si units, gives the relation to the planck constant. the x-ray crystal density method is primarily a method for determining the avogadro constant na but as the avogadro constant is related to the planck constant it also determines a value for h. the principle behind the method is to determine na as the ratio between the volume of the unit cell of a crystal, measured by x-ray crystallography, and the molar volume of the substance. crystals of silicon are used, as they are available in high quality and purity by the technology developed for the semiconductor industry. the unit cell volume is calculated from the spacing between two crystal planes referred to as d220. the molar volume vm(si) requires a knowledge of the density of the crystal and the atomic weight of the silicon used. the planck constant is given by there are a number of proposals to redefine certain of the si base units in terms of fundamental physical constants. this has already been done for the metre, which is defined in terms of a fixed value of the speed of light. the most urgent unit on the list for redefinition is the kilogram, whose value has been fixed for all science (since 1889) by the mass of a small cylinder of platinum–iridium alloy kept in a vault just outside paris. while nobody knows if the mass of the international prototype kilogram has changed since 1889 – the value 1 kg of its mass expressed in kilograms is by definition unchanged and therein lies one of the problems – it is known that over such a timescale the many similar pt–ir alloy cylinders kept in national laboratories around the world, have changed their relative mass by several tens of parts per million, however carefully they are stored, and the more so the more they have been taken out and used as mass standards. a change of several tens of micrograms in one kilogram is equivalent to the current uncertainty in the value of the planck constant in si units. the legal process to change the definition of the kilogram is already underway, but it had been decided that no final decision would be made before the next meeting of the general conference on weights and measures in 2011. (for more detailed information, see kilogram definitions.) the planck constant is a leading contender to form the basis of the new definition, although not the only one. possible new definitions include the mass of a body at rest whose equivalent energy equals the energy of photons whose frequencies sum to 7050135639273999999♠135639274×1042 hz, or simply the kilogram is defined so that the planck constant equals 6966662606895999999♠6.62606896×10−34 j⋅s.\""
      ]
     },
     "execution_count": 592,
     "metadata": {},
     "output_type": "execute_result"
    }
   ],
   "source": [
    "documents[0]"
   ]
  }
 ],
 "metadata": {
  "kernelspec": {
   "display_name": "Python 3",
   "language": "python",
   "name": "python3"
  },
  "language_info": {
   "codemirror_mode": {
    "name": "ipython",
    "version": 3.0
   },
   "file_extension": ".py",
   "mimetype": "text/x-python",
   "name": "python",
   "nbconvert_exporter": "python",
   "pygments_lexer": "ipython3",
   "version": "3.5.2"
  },
  "toc": {
   "nav_menu": {},
   "number_sections": true,
   "sideBar": true,
   "skip_h1_title": false,
   "toc_cell": false,
   "toc_position": {},
   "toc_section_display": "block",
   "toc_window_display": false
  }
 },
 "nbformat": 4,
 "nbformat_minor": 0
}