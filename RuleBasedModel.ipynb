{
 "cells": [
  {
   "cell_type": "code",
   "execution_count": 1,
   "metadata": {},
   "outputs": [],
   "source": [
    "import json\n",
    "import nltk\n",
    "import csv\n",
    "import pickle\n",
    "import spacy\n",
    "from tqdm import tqdm\n",
    "import sklearn\n",
    "import collections\n",
    "import itertools\n",
    "import numpy as np\n",
    "from sklearn.feature_extraction.text import TfidfVectorizer"
   ]
  },
  {
   "cell_type": "code",
   "execution_count": 2,
   "metadata": {},
   "outputs": [],
   "source": [
    "lmap = lambda func, it: list(map(func, it))\n",
    "with open('documents.json', 'r+') as f:\n",
    "    documents = json.loads(f.read())\n",
    "with open('testing.json', 'r+') as f:\n",
    "    test = json.loads(f.read())"
   ]
  },
  {
   "cell_type": "code",
   "execution_count": 3,
   "metadata": {},
   "outputs": [],
   "source": [
    "nlp = spacy.load('en_core_web_lg')\n",
    "nlp.add_pipe(nlp.create_pipe('sentencizer'))\n",
    "n = lambda x: nlp(x)"
   ]
  },
  {
   "cell_type": "code",
   "execution_count": 4,
   "metadata": {},
   "outputs": [],
   "source": [
    "test_docids = list(set(lmap(lambda x: x['docid'], test)))\n",
    "test_docs = list(filter(lambda x: x['docid'] in test_docids, documents))\n",
    "test_docs = dict(zip(test_docids, test_docs))"
   ]
  },
  {
   "cell_type": "code",
   "execution_count": 5,
   "metadata": {},
   "outputs": [],
   "source": [
    "def tokenize(text):\n",
    "    return lmap(lambda x: x.text, n(text))\n",
    "\n",
    "\n",
    "def tokenize(text):\n",
    "    return lmap(lambda x: x.text, n(text))\n",
    "\n",
    "\n",
    "extract_features = lambda x: {\n",
    "    'text': x.text,\n",
    "    'pos': x.pos_,\n",
    "    'tag': x.tag_,\n",
    "    'dep': x.dep_,\n",
    "    'digit': x.is_digit,\n",
    "    'num': x.like_num,\n",
    "    'ent': x.ent_type_,\n",
    "}\n",
    "\n",
    "\n",
    "def in_question(candidate, question):\n",
    "    return np.sum(lmap(lambda x: x in question, candidate)) > 0"
   ]
  },
  {
   "cell_type": "code",
   "execution_count": 6,
   "metadata": {},
   "outputs": [
    {
     "name": "stderr",
     "output_type": "stream",
     "text": [
      "3618it [06:11,  9.74it/s]\n"
     ]
    }
   ],
   "source": [
    "predict = []\n",
    "retrived_doc = {}\n",
    "retrived_tfidf = {}\n",
    "stopwords = nltk.corpus.stopwords.words('english')\n",
    "for ti, t in tqdm(enumerate(test)):\n",
    "    question = t['question']\n",
    "    d = test_docs[t['docid']]\n",
    "    doc_text = ' '.join(d['text'])\n",
    "    if t['docid'] not in retrived_doc:\n",
    "        retrived_doc[t['docid']] = n(doc_text)\n",
    "    doc = retrived_doc[t['docid']]\n",
    "    if t['docid'] not in retrived_tfidf:\n",
    "        sents = list(doc.sents)\n",
    "        sents_text = lmap(lambda x: x.text, sents)\n",
    "        tfidf = TfidfVectorizer(tokenizer=tokenize, stop_words=stopwords, lowercase=True, min_df=0, max_df=0.95)\n",
    "        sent_score = tfidf.fit_transform(sents_text)\n",
    "        retrived_tfidf[t['docid']] = (tfidf, sent_score.toarray(), sents)\n",
    "    tfidf, sent_score, doc_sents = retrived_tfidf[t['docid']]\n",
    "    q_score = tfidf.transform([question]).toarray()\n",
    "    si = np.argsort((np.dot(sent_score, q_score.T).flatten()))[-1:][::-1]\n",
    "    relative_sent = [doc_sents[i] for i in si]\n",
    "    sent_tokens = itertools.chain.from_iterable([lmap(lambda x: extract_features(x), list(s)) for s in relative_sent])\n",
    "    result = []\n",
    "    q = n(question)\n",
    "    if in_question(['when', 'what time', 'what day', 'day', 'year', 'month', 'time'], question.lower()):\n",
    "        for t in sent_tokens:\n",
    "            t_text = t['text']\n",
    "            if t['ent'] in ['DATE', 'TIME']:\n",
    "                if t_text not in result:\n",
    "                    result.append(t_text)\n",
    "        if len(result) == 0:\n",
    "            for t in sent_tokens:\n",
    "                t_text = t['text']\n",
    "                if t['digit'] or t['number']:\n",
    "                    if t_text not in result:\n",
    "                        result.append(t_text)\n",
    "        predict.append((ti, ' '.join(result)))\n",
    "    elif in_question(['who', 'person'], question.lower()):\n",
    "        for t in sent_tokens:\n",
    "            t_text = t['text']\n",
    "            if t['ent'] in ['PERSON', 'ORG', 'NORP']:\n",
    "                if t_text not in result:\n",
    "                    result.append(t_text)\n",
    "        predict.append((ti, ' '.join(result)))\n",
    "    elif in_question(['where', 'location', 'place', 'city', 'country'], question.lower()):\n",
    "        for t in sent_tokens:\n",
    "            t_text = t['text']\n",
    "            if t['ent'] in ['GPE', 'FACILITY', 'LOC']:\n",
    "                if t_text not in result:\n",
    "                    result.append(t_text)\n",
    "        predict.append((ti, ' '.join(result)))\n",
    "    elif in_question(['how long', 'how much', 'how far'], question.lower()):\n",
    "        for t in sent_tokens:\n",
    "            t_text = t['text']\n",
    "            if t['ent'] in ['PERCENT', 'MONEY', 'QUANTITY', 'ORDINAL', 'CARDINAL']:\n",
    "                if t_text not in result:\n",
    "                    result.append(t_text)\n",
    "        if len(result) == 0:\n",
    "            for t in sent_tokens:\n",
    "                t_text = t['text']\n",
    "                if t['digit'] or t['num']:\n",
    "                    if t_text not in result:\n",
    "                        result.append(t_text)\n",
    "        predict.append((ti, ' '.join(result)))\n",
    "    elif in_question(['what'], question.lower()):\n",
    "        for t in sent_tokens:\n",
    "            t_text = t['text']\n",
    "            if len(t['ent']) > 0:\n",
    "                if t_text not in result:\n",
    "                    result.append(t_text)\n",
    "        if len(result) == 0:\n",
    "            result.extend(lmap(lambda x: x.text, list(relative_sent[0].noun_chunks)))\n",
    "            result = list(set(result))\n",
    "        predict.append((ti, ' '.join(result)))\n",
    "    else:\n",
    "        for t in sent_tokens:\n",
    "            t_text = t['text']\n",
    "            if len(t['ent']) > 0 and t['ent']:\n",
    "                if t_text not in result:\n",
    "                    result.append(t_text)\n",
    "        if len(result) == 0:\n",
    "            result.extend(lmap(lambda x: x.text, list(relative_sent[0].noun_chunks)))\n",
    "            result = list(set(result))\n",
    "        predict.append((ti, ' '.join(result)))"
   ]
  },
  {
   "cell_type": "code",
   "execution_count": 7,
   "metadata": {},
   "outputs": [],
   "source": [
    "with open('result_rule_based.csv', 'w+') as f:\n",
    "    writer = csv.writer(f)\n",
    "    writer.writerows(predict)"
   ]
  }
 ],
 "metadata": {
  "kernelspec": {
   "display_name": "Python 3",
   "language": "python",
   "name": "python3"
  },
  "language_info": {
   "codemirror_mode": {
    "name": "ipython",
    "version": 3.0
   },
   "file_extension": ".py",
   "mimetype": "text/x-python",
   "name": "python",
   "nbconvert_exporter": "python",
   "pygments_lexer": "ipython3",
   "version": "3.5.2"
  }
 },
 "nbformat": 4,
 "nbformat_minor": 0
}